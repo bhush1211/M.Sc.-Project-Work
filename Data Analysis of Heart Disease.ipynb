{
 "cells": [
  {
   "cell_type": "markdown",
   "id": "56443828",
   "metadata": {},
   "source": [
    "# Data Analysis of Heart Disease Dataset"
   ]
  },
  {
   "cell_type": "code",
   "execution_count": 35,
   "id": "1d314600",
   "metadata": {},
   "outputs": [],
   "source": [
    "import pandas as pd\n",
    "import seaborn as sns\n",
    "import matplotlib.pyplot as plt\n",
    "import numpy as np\n",
    "import statsmodels.formula.api as smf"
   ]
  },
  {
   "cell_type": "code",
   "execution_count": 36,
   "id": "d337aa8a",
   "metadata": {},
   "outputs": [
    {
     "data": {
      "text/html": [
       "<div>\n",
       "<style scoped>\n",
       "    .dataframe tbody tr th:only-of-type {\n",
       "        vertical-align: middle;\n",
       "    }\n",
       "\n",
       "    .dataframe tbody tr th {\n",
       "        vertical-align: top;\n",
       "    }\n",
       "\n",
       "    .dataframe thead th {\n",
       "        text-align: right;\n",
       "    }\n",
       "</style>\n",
       "<table border=\"1\" class=\"dataframe\">\n",
       "  <thead>\n",
       "    <tr style=\"text-align: right;\">\n",
       "      <th></th>\n",
       "      <th>age</th>\n",
       "      <th>sex</th>\n",
       "      <th>cp</th>\n",
       "      <th>trestbps</th>\n",
       "      <th>chol</th>\n",
       "      <th>fbs</th>\n",
       "      <th>restecg</th>\n",
       "      <th>thalach</th>\n",
       "      <th>exange</th>\n",
       "      <th>olpeak</th>\n",
       "      <th>slope</th>\n",
       "      <th>ca</th>\n",
       "      <th>tha</th>\n",
       "      <th>target</th>\n",
       "    </tr>\n",
       "  </thead>\n",
       "  <tbody>\n",
       "    <tr>\n",
       "      <th>0</th>\n",
       "      <td>63</td>\n",
       "      <td>1</td>\n",
       "      <td>1</td>\n",
       "      <td>145</td>\n",
       "      <td>233</td>\n",
       "      <td>1</td>\n",
       "      <td>2</td>\n",
       "      <td>150</td>\n",
       "      <td>0</td>\n",
       "      <td>2.3</td>\n",
       "      <td>3</td>\n",
       "      <td>0</td>\n",
       "      <td>6</td>\n",
       "      <td>0</td>\n",
       "    </tr>\n",
       "    <tr>\n",
       "      <th>1</th>\n",
       "      <td>67</td>\n",
       "      <td>1</td>\n",
       "      <td>4</td>\n",
       "      <td>160</td>\n",
       "      <td>286</td>\n",
       "      <td>0</td>\n",
       "      <td>2</td>\n",
       "      <td>108</td>\n",
       "      <td>1</td>\n",
       "      <td>1.5</td>\n",
       "      <td>2</td>\n",
       "      <td>3</td>\n",
       "      <td>3</td>\n",
       "      <td>1</td>\n",
       "    </tr>\n",
       "    <tr>\n",
       "      <th>2</th>\n",
       "      <td>67</td>\n",
       "      <td>1</td>\n",
       "      <td>4</td>\n",
       "      <td>120</td>\n",
       "      <td>229</td>\n",
       "      <td>0</td>\n",
       "      <td>2</td>\n",
       "      <td>129</td>\n",
       "      <td>1</td>\n",
       "      <td>2.6</td>\n",
       "      <td>2</td>\n",
       "      <td>2</td>\n",
       "      <td>7</td>\n",
       "      <td>1</td>\n",
       "    </tr>\n",
       "    <tr>\n",
       "      <th>3</th>\n",
       "      <td>37</td>\n",
       "      <td>1</td>\n",
       "      <td>3</td>\n",
       "      <td>130</td>\n",
       "      <td>250</td>\n",
       "      <td>0</td>\n",
       "      <td>0</td>\n",
       "      <td>187</td>\n",
       "      <td>0</td>\n",
       "      <td>3.5</td>\n",
       "      <td>3</td>\n",
       "      <td>0</td>\n",
       "      <td>3</td>\n",
       "      <td>0</td>\n",
       "    </tr>\n",
       "    <tr>\n",
       "      <th>4</th>\n",
       "      <td>41</td>\n",
       "      <td>0</td>\n",
       "      <td>2</td>\n",
       "      <td>130</td>\n",
       "      <td>204</td>\n",
       "      <td>0</td>\n",
       "      <td>2</td>\n",
       "      <td>172</td>\n",
       "      <td>0</td>\n",
       "      <td>1.4</td>\n",
       "      <td>1</td>\n",
       "      <td>0</td>\n",
       "      <td>3</td>\n",
       "      <td>0</td>\n",
       "    </tr>\n",
       "    <tr>\n",
       "      <th>...</th>\n",
       "      <td>...</td>\n",
       "      <td>...</td>\n",
       "      <td>...</td>\n",
       "      <td>...</td>\n",
       "      <td>...</td>\n",
       "      <td>...</td>\n",
       "      <td>...</td>\n",
       "      <td>...</td>\n",
       "      <td>...</td>\n",
       "      <td>...</td>\n",
       "      <td>...</td>\n",
       "      <td>...</td>\n",
       "      <td>...</td>\n",
       "      <td>...</td>\n",
       "    </tr>\n",
       "    <tr>\n",
       "      <th>298</th>\n",
       "      <td>45</td>\n",
       "      <td>1</td>\n",
       "      <td>1</td>\n",
       "      <td>110</td>\n",
       "      <td>264</td>\n",
       "      <td>0</td>\n",
       "      <td>0</td>\n",
       "      <td>132</td>\n",
       "      <td>0</td>\n",
       "      <td>1.2</td>\n",
       "      <td>2</td>\n",
       "      <td>0</td>\n",
       "      <td>7</td>\n",
       "      <td>1</td>\n",
       "    </tr>\n",
       "    <tr>\n",
       "      <th>299</th>\n",
       "      <td>68</td>\n",
       "      <td>1</td>\n",
       "      <td>4</td>\n",
       "      <td>144</td>\n",
       "      <td>193</td>\n",
       "      <td>1</td>\n",
       "      <td>0</td>\n",
       "      <td>141</td>\n",
       "      <td>0</td>\n",
       "      <td>3.4</td>\n",
       "      <td>2</td>\n",
       "      <td>2</td>\n",
       "      <td>7</td>\n",
       "      <td>1</td>\n",
       "    </tr>\n",
       "    <tr>\n",
       "      <th>300</th>\n",
       "      <td>57</td>\n",
       "      <td>1</td>\n",
       "      <td>4</td>\n",
       "      <td>130</td>\n",
       "      <td>131</td>\n",
       "      <td>0</td>\n",
       "      <td>0</td>\n",
       "      <td>115</td>\n",
       "      <td>1</td>\n",
       "      <td>1.2</td>\n",
       "      <td>2</td>\n",
       "      <td>1</td>\n",
       "      <td>7</td>\n",
       "      <td>1</td>\n",
       "    </tr>\n",
       "    <tr>\n",
       "      <th>301</th>\n",
       "      <td>57</td>\n",
       "      <td>0</td>\n",
       "      <td>2</td>\n",
       "      <td>130</td>\n",
       "      <td>236</td>\n",
       "      <td>0</td>\n",
       "      <td>2</td>\n",
       "      <td>174</td>\n",
       "      <td>0</td>\n",
       "      <td>0.0</td>\n",
       "      <td>2</td>\n",
       "      <td>1</td>\n",
       "      <td>3</td>\n",
       "      <td>1</td>\n",
       "    </tr>\n",
       "    <tr>\n",
       "      <th>302</th>\n",
       "      <td>38</td>\n",
       "      <td>1</td>\n",
       "      <td>3</td>\n",
       "      <td>138</td>\n",
       "      <td>175</td>\n",
       "      <td>0</td>\n",
       "      <td>0</td>\n",
       "      <td>173</td>\n",
       "      <td>0</td>\n",
       "      <td>0.0</td>\n",
       "      <td>1</td>\n",
       "      <td>1</td>\n",
       "      <td>3</td>\n",
       "      <td>0</td>\n",
       "    </tr>\n",
       "  </tbody>\n",
       "</table>\n",
       "<p>303 rows × 14 columns</p>\n",
       "</div>"
      ],
      "text/plain": [
       "     age  sex  cp  trestbps  chol  fbs  restecg  thalach  exange  olpeak  \\\n",
       "0     63    1   1       145   233    1        2      150       0     2.3   \n",
       "1     67    1   4       160   286    0        2      108       1     1.5   \n",
       "2     67    1   4       120   229    0        2      129       1     2.6   \n",
       "3     37    1   3       130   250    0        0      187       0     3.5   \n",
       "4     41    0   2       130   204    0        2      172       0     1.4   \n",
       "..   ...  ...  ..       ...   ...  ...      ...      ...     ...     ...   \n",
       "298   45    1   1       110   264    0        0      132       0     1.2   \n",
       "299   68    1   4       144   193    1        0      141       0     3.4   \n",
       "300   57    1   4       130   131    0        0      115       1     1.2   \n",
       "301   57    0   2       130   236    0        2      174       0     0.0   \n",
       "302   38    1   3       138   175    0        0      173       0     0.0   \n",
       "\n",
       "     slope  ca  tha  target  \n",
       "0        3   0    6       0  \n",
       "1        2   3    3       1  \n",
       "2        2   2    7       1  \n",
       "3        3   0    3       0  \n",
       "4        1   0    3       0  \n",
       "..     ...  ..  ...     ...  \n",
       "298      2   0    7       1  \n",
       "299      2   2    7       1  \n",
       "300      2   1    7       1  \n",
       "301      2   1    3       1  \n",
       "302      1   1    3       0  \n",
       "\n",
       "[303 rows x 14 columns]"
      ]
     },
     "execution_count": 36,
     "metadata": {},
     "output_type": "execute_result"
    }
   ],
   "source": [
    "hdf=pd.read_csv(\"H.csv\")\n",
    "hdf"
   ]
  },
  {
   "cell_type": "markdown",
   "id": "9374c45f",
   "metadata": {},
   "source": [
    "### Considering only Numerical Variables"
   ]
  },
  {
   "cell_type": "code",
   "execution_count": 37,
   "id": "7949f477",
   "metadata": {},
   "outputs": [
    {
     "data": {
      "text/html": [
       "<div>\n",
       "<style scoped>\n",
       "    .dataframe tbody tr th:only-of-type {\n",
       "        vertical-align: middle;\n",
       "    }\n",
       "\n",
       "    .dataframe tbody tr th {\n",
       "        vertical-align: top;\n",
       "    }\n",
       "\n",
       "    .dataframe thead th {\n",
       "        text-align: right;\n",
       "    }\n",
       "</style>\n",
       "<table border=\"1\" class=\"dataframe\">\n",
       "  <thead>\n",
       "    <tr style=\"text-align: right;\">\n",
       "      <th></th>\n",
       "      <th>age</th>\n",
       "      <th>trestbps</th>\n",
       "      <th>chol</th>\n",
       "      <th>thalach</th>\n",
       "      <th>olpeak</th>\n",
       "    </tr>\n",
       "  </thead>\n",
       "  <tbody>\n",
       "    <tr>\n",
       "      <th>0</th>\n",
       "      <td>63</td>\n",
       "      <td>145</td>\n",
       "      <td>233</td>\n",
       "      <td>150</td>\n",
       "      <td>2.3</td>\n",
       "    </tr>\n",
       "    <tr>\n",
       "      <th>1</th>\n",
       "      <td>67</td>\n",
       "      <td>160</td>\n",
       "      <td>286</td>\n",
       "      <td>108</td>\n",
       "      <td>1.5</td>\n",
       "    </tr>\n",
       "    <tr>\n",
       "      <th>2</th>\n",
       "      <td>67</td>\n",
       "      <td>120</td>\n",
       "      <td>229</td>\n",
       "      <td>129</td>\n",
       "      <td>2.6</td>\n",
       "    </tr>\n",
       "    <tr>\n",
       "      <th>3</th>\n",
       "      <td>37</td>\n",
       "      <td>130</td>\n",
       "      <td>250</td>\n",
       "      <td>187</td>\n",
       "      <td>3.5</td>\n",
       "    </tr>\n",
       "    <tr>\n",
       "      <th>4</th>\n",
       "      <td>41</td>\n",
       "      <td>130</td>\n",
       "      <td>204</td>\n",
       "      <td>172</td>\n",
       "      <td>1.4</td>\n",
       "    </tr>\n",
       "    <tr>\n",
       "      <th>...</th>\n",
       "      <td>...</td>\n",
       "      <td>...</td>\n",
       "      <td>...</td>\n",
       "      <td>...</td>\n",
       "      <td>...</td>\n",
       "    </tr>\n",
       "    <tr>\n",
       "      <th>298</th>\n",
       "      <td>45</td>\n",
       "      <td>110</td>\n",
       "      <td>264</td>\n",
       "      <td>132</td>\n",
       "      <td>1.2</td>\n",
       "    </tr>\n",
       "    <tr>\n",
       "      <th>299</th>\n",
       "      <td>68</td>\n",
       "      <td>144</td>\n",
       "      <td>193</td>\n",
       "      <td>141</td>\n",
       "      <td>3.4</td>\n",
       "    </tr>\n",
       "    <tr>\n",
       "      <th>300</th>\n",
       "      <td>57</td>\n",
       "      <td>130</td>\n",
       "      <td>131</td>\n",
       "      <td>115</td>\n",
       "      <td>1.2</td>\n",
       "    </tr>\n",
       "    <tr>\n",
       "      <th>301</th>\n",
       "      <td>57</td>\n",
       "      <td>130</td>\n",
       "      <td>236</td>\n",
       "      <td>174</td>\n",
       "      <td>0.0</td>\n",
       "    </tr>\n",
       "    <tr>\n",
       "      <th>302</th>\n",
       "      <td>38</td>\n",
       "      <td>138</td>\n",
       "      <td>175</td>\n",
       "      <td>173</td>\n",
       "      <td>0.0</td>\n",
       "    </tr>\n",
       "  </tbody>\n",
       "</table>\n",
       "<p>303 rows × 5 columns</p>\n",
       "</div>"
      ],
      "text/plain": [
       "     age  trestbps  chol  thalach  olpeak\n",
       "0     63       145   233      150     2.3\n",
       "1     67       160   286      108     1.5\n",
       "2     67       120   229      129     2.6\n",
       "3     37       130   250      187     3.5\n",
       "4     41       130   204      172     1.4\n",
       "..   ...       ...   ...      ...     ...\n",
       "298   45       110   264      132     1.2\n",
       "299   68       144   193      141     3.4\n",
       "300   57       130   131      115     1.2\n",
       "301   57       130   236      174     0.0\n",
       "302   38       138   175      173     0.0\n",
       "\n",
       "[303 rows x 5 columns]"
      ]
     },
     "execution_count": 37,
     "metadata": {},
     "output_type": "execute_result"
    }
   ],
   "source": [
    "hdf1=hdf.drop(['sex','cp','fbs','restecg','exange','slope','ca','tha','target'],axis=1)\n",
    "hdf1"
   ]
  },
  {
   "cell_type": "markdown",
   "id": "6fc3814c",
   "metadata": {},
   "source": [
    "### Discriptive Statistics Table"
   ]
  },
  {
   "cell_type": "code",
   "execution_count": 38,
   "id": "cc03e637",
   "metadata": {},
   "outputs": [
    {
     "data": {
      "text/html": [
       "<div>\n",
       "<style scoped>\n",
       "    .dataframe tbody tr th:only-of-type {\n",
       "        vertical-align: middle;\n",
       "    }\n",
       "\n",
       "    .dataframe tbody tr th {\n",
       "        vertical-align: top;\n",
       "    }\n",
       "\n",
       "    .dataframe thead th {\n",
       "        text-align: right;\n",
       "    }\n",
       "</style>\n",
       "<table border=\"1\" class=\"dataframe\">\n",
       "  <thead>\n",
       "    <tr style=\"text-align: right;\">\n",
       "      <th></th>\n",
       "      <th>age</th>\n",
       "      <th>trestbps</th>\n",
       "      <th>chol</th>\n",
       "      <th>thalach</th>\n",
       "      <th>olpeak</th>\n",
       "    </tr>\n",
       "  </thead>\n",
       "  <tbody>\n",
       "    <tr>\n",
       "      <th>count</th>\n",
       "      <td>303.000000</td>\n",
       "      <td>303.000000</td>\n",
       "      <td>303.000000</td>\n",
       "      <td>303.000000</td>\n",
       "      <td>303.000000</td>\n",
       "    </tr>\n",
       "    <tr>\n",
       "      <th>mean</th>\n",
       "      <td>54.438944</td>\n",
       "      <td>131.689769</td>\n",
       "      <td>246.693069</td>\n",
       "      <td>149.607261</td>\n",
       "      <td>1.039604</td>\n",
       "    </tr>\n",
       "    <tr>\n",
       "      <th>std</th>\n",
       "      <td>9.038662</td>\n",
       "      <td>17.599748</td>\n",
       "      <td>51.776918</td>\n",
       "      <td>22.875003</td>\n",
       "      <td>1.161075</td>\n",
       "    </tr>\n",
       "    <tr>\n",
       "      <th>min</th>\n",
       "      <td>29.000000</td>\n",
       "      <td>94.000000</td>\n",
       "      <td>126.000000</td>\n",
       "      <td>71.000000</td>\n",
       "      <td>0.000000</td>\n",
       "    </tr>\n",
       "    <tr>\n",
       "      <th>25%</th>\n",
       "      <td>48.000000</td>\n",
       "      <td>120.000000</td>\n",
       "      <td>211.000000</td>\n",
       "      <td>133.500000</td>\n",
       "      <td>0.000000</td>\n",
       "    </tr>\n",
       "    <tr>\n",
       "      <th>50%</th>\n",
       "      <td>56.000000</td>\n",
       "      <td>130.000000</td>\n",
       "      <td>241.000000</td>\n",
       "      <td>153.000000</td>\n",
       "      <td>0.800000</td>\n",
       "    </tr>\n",
       "    <tr>\n",
       "      <th>75%</th>\n",
       "      <td>61.000000</td>\n",
       "      <td>140.000000</td>\n",
       "      <td>275.000000</td>\n",
       "      <td>166.000000</td>\n",
       "      <td>1.600000</td>\n",
       "    </tr>\n",
       "    <tr>\n",
       "      <th>max</th>\n",
       "      <td>77.000000</td>\n",
       "      <td>200.000000</td>\n",
       "      <td>564.000000</td>\n",
       "      <td>202.000000</td>\n",
       "      <td>6.200000</td>\n",
       "    </tr>\n",
       "  </tbody>\n",
       "</table>\n",
       "</div>"
      ],
      "text/plain": [
       "              age    trestbps        chol     thalach      olpeak\n",
       "count  303.000000  303.000000  303.000000  303.000000  303.000000\n",
       "mean    54.438944  131.689769  246.693069  149.607261    1.039604\n",
       "std      9.038662   17.599748   51.776918   22.875003    1.161075\n",
       "min     29.000000   94.000000  126.000000   71.000000    0.000000\n",
       "25%     48.000000  120.000000  211.000000  133.500000    0.000000\n",
       "50%     56.000000  130.000000  241.000000  153.000000    0.800000\n",
       "75%     61.000000  140.000000  275.000000  166.000000    1.600000\n",
       "max     77.000000  200.000000  564.000000  202.000000    6.200000"
      ]
     },
     "execution_count": 38,
     "metadata": {},
     "output_type": "execute_result"
    }
   ],
   "source": [
    "k=pd.DataFrame(hdf1.describe())\n",
    "k"
   ]
  },
  {
   "cell_type": "markdown",
   "id": "3feaa544",
   "metadata": {},
   "source": [
    "### Pairplot for Numerical Variables"
   ]
  },
  {
   "cell_type": "code",
   "execution_count": 39,
   "id": "c8f9dd41",
   "metadata": {},
   "outputs": [
    {
     "data": {
      "text/plain": [
       "<seaborn.axisgrid.PairGrid at 0x1f7f3719040>"
      ]
     },
     "execution_count": 39,
     "metadata": {},
     "output_type": "execute_result"
    },
    {
     "data": {
      "image/png": "[encoded data removed]",
      "text/plain": [
       "<Figure size 1080x1080 with 42 Axes>"
      ]
     },
     "metadata": {},
     "output_type": "display_data"
    }
   ],
   "source": [
    "hdf2=hdf.drop(['sex','cp','fbs','restecg','exange','slope','ca','tha'],axis=1)\n",
    "sns.pairplot(data=hdf2)"
   ]
  },
  {
   "cell_type": "markdown",
   "id": "68013f9d",
   "metadata": {},
   "source": [
    "### Correlation Matrix and Heatmap for Numerical Variables"
   ]
  },
  {
   "cell_type": "code",
   "execution_count": 40,
   "id": "d3b936ca",
   "metadata": {},
   "outputs": [
    {
     "data": {
      "text/html": [
       "<div>\n",
       "<style scoped>\n",
       "    .dataframe tbody tr th:only-of-type {\n",
       "        vertical-align: middle;\n",
       "    }\n",
       "\n",
       "    .dataframe tbody tr th {\n",
       "        vertical-align: top;\n",
       "    }\n",
       "\n",
       "    .dataframe thead th {\n",
       "        text-align: right;\n",
       "    }\n",
       "</style>\n",
       "<table border=\"1\" class=\"dataframe\">\n",
       "  <thead>\n",
       "    <tr style=\"text-align: right;\">\n",
       "      <th></th>\n",
       "      <th>age</th>\n",
       "      <th>trestbps</th>\n",
       "      <th>chol</th>\n",
       "      <th>thalach</th>\n",
       "      <th>olpeak</th>\n",
       "    </tr>\n",
       "  </thead>\n",
       "  <tbody>\n",
       "    <tr>\n",
       "      <th>age</th>\n",
       "      <td>1.000000</td>\n",
       "      <td>0.284946</td>\n",
       "      <td>0.208950</td>\n",
       "      <td>-0.393806</td>\n",
       "      <td>0.203805</td>\n",
       "    </tr>\n",
       "    <tr>\n",
       "      <th>trestbps</th>\n",
       "      <td>0.284946</td>\n",
       "      <td>1.000000</td>\n",
       "      <td>0.130120</td>\n",
       "      <td>-0.045351</td>\n",
       "      <td>0.189171</td>\n",
       "    </tr>\n",
       "    <tr>\n",
       "      <th>chol</th>\n",
       "      <td>0.208950</td>\n",
       "      <td>0.130120</td>\n",
       "      <td>1.000000</td>\n",
       "      <td>-0.003432</td>\n",
       "      <td>0.046564</td>\n",
       "    </tr>\n",
       "    <tr>\n",
       "      <th>thalach</th>\n",
       "      <td>-0.393806</td>\n",
       "      <td>-0.045351</td>\n",
       "      <td>-0.003432</td>\n",
       "      <td>1.000000</td>\n",
       "      <td>-0.343085</td>\n",
       "    </tr>\n",
       "    <tr>\n",
       "      <th>olpeak</th>\n",
       "      <td>0.203805</td>\n",
       "      <td>0.189171</td>\n",
       "      <td>0.046564</td>\n",
       "      <td>-0.343085</td>\n",
       "      <td>1.000000</td>\n",
       "    </tr>\n",
       "  </tbody>\n",
       "</table>\n",
       "</div>"
      ],
      "text/plain": [
       "               age  trestbps      chol   thalach    olpeak\n",
       "age       1.000000  0.284946  0.208950 -0.393806  0.203805\n",
       "trestbps  0.284946  1.000000  0.130120 -0.045351  0.189171\n",
       "chol      0.208950  0.130120  1.000000 -0.003432  0.046564\n",
       "thalach  -0.393806 -0.045351 -0.003432  1.000000 -0.343085\n",
       "olpeak    0.203805  0.189171  0.046564 -0.343085  1.000000"
      ]
     },
     "execution_count": 40,
     "metadata": {},
     "output_type": "execute_result"
    }
   ],
   "source": [
    "# Correlation Matrix\n",
    "corrMatrix=hdf1.corr()\n",
    "corrMatrix"
   ]
  },
  {
   "cell_type": "code",
   "execution_count": 41,
   "id": "582fa35d",
   "metadata": {},
   "outputs": [
    {
     "data": {
      "image/png": "[encoded data removed]",
      "text/plain": [
       "<Figure size 576x576 with 2 Axes>"
      ]
     },
     "metadata": {},
     "output_type": "display_data"
    }
   ],
   "source": [
    "# Correlation Heatmap Matrix\n",
    "sns.set(rc={'figure.figsize':(8,8)})\n",
    "sns.heatmap(corrMatrix,annot=True)\n",
    "plt.show()"
   ]
  },
  {
   "cell_type": "markdown",
   "id": "00cda49e",
   "metadata": {},
   "source": [
    "### Chi-Square test for Association of Categorical Variables"
   ]
  },
  {
   "cell_type": "code",
   "execution_count": 42,
   "id": "c9e1b802",
   "metadata": {},
   "outputs": [],
   "source": [
    "import scipy.stats as st"
   ]
  },
  {
   "cell_type": "code",
   "execution_count": 43,
   "id": "d7c0b9b5",
   "metadata": {},
   "outputs": [
    {
     "data": {
      "text/html": [
       "<div>\n",
       "<style scoped>\n",
       "    .dataframe tbody tr th:only-of-type {\n",
       "        vertical-align: middle;\n",
       "    }\n",
       "\n",
       "    .dataframe tbody tr th {\n",
       "        vertical-align: top;\n",
       "    }\n",
       "\n",
       "    .dataframe thead th {\n",
       "        text-align: right;\n",
       "    }\n",
       "</style>\n",
       "<table border=\"1\" class=\"dataframe\">\n",
       "  <thead>\n",
       "    <tr style=\"text-align: right;\">\n",
       "      <th>tha</th>\n",
       "      <th>3</th>\n",
       "      <th>6</th>\n",
       "      <th>7</th>\n",
       "    </tr>\n",
       "    <tr>\n",
       "      <th>slope</th>\n",
       "      <th></th>\n",
       "      <th></th>\n",
       "      <th></th>\n",
       "    </tr>\n",
       "  </thead>\n",
       "  <tbody>\n",
       "    <tr>\n",
       "      <th>1</th>\n",
       "      <td>103</td>\n",
       "      <td>2</td>\n",
       "      <td>37</td>\n",
       "    </tr>\n",
       "    <tr>\n",
       "      <th>2</th>\n",
       "      <td>56</td>\n",
       "      <td>14</td>\n",
       "      <td>70</td>\n",
       "    </tr>\n",
       "    <tr>\n",
       "      <th>3</th>\n",
       "      <td>8</td>\n",
       "      <td>3</td>\n",
       "      <td>10</td>\n",
       "    </tr>\n",
       "  </tbody>\n",
       "</table>\n",
       "</div>"
      ],
      "text/plain": [
       "tha      3   6   7\n",
       "slope             \n",
       "1      103   2  37\n",
       "2       56  14  70\n",
       "3        8   3  10"
      ]
     },
     "execution_count": 43,
     "metadata": {},
     "output_type": "execute_result"
    }
   ],
   "source": [
    "## Contingency Table of slope(The slope of peak excercise ST segment) and tha(Thalassemia Blood Disorder)\n",
    "contTable=pd.crosstab(index=hdf['slope'],columns=hdf['tha'])\n",
    "contTable"
   ]
  },
  {
   "cell_type": "code",
   "execution_count": 44,
   "id": "2aef96cc",
   "metadata": {},
   "outputs": [
    {
     "data": {
      "text/plain": [
       "(36.27598372064132,\n",
       " 2.5390227240426463e-07,\n",
       " 4,\n",
       " array([[78.2640264 ,  8.90429043, 54.83168317],\n",
       "        [77.16171617,  8.77887789, 54.05940594],\n",
       "        [11.57425743,  1.31683168,  8.10891089]]))"
      ]
     },
     "execution_count": 44,
     "metadata": {},
     "output_type": "execute_result"
    }
   ],
   "source": [
    "## Chi-square test for independence of slope and thal\n",
    "st.chi2_contingency(contTable)"
   ]
  },
  {
   "cell_type": "code",
   "execution_count": 45,
   "id": "ab0742d4",
   "metadata": {},
   "outputs": [
    {
     "data": {
      "text/html": [
       "<div>\n",
       "<style scoped>\n",
       "    .dataframe tbody tr th:only-of-type {\n",
       "        vertical-align: middle;\n",
       "    }\n",
       "\n",
       "    .dataframe tbody tr th {\n",
       "        vertical-align: top;\n",
       "    }\n",
       "\n",
       "    .dataframe thead th {\n",
       "        text-align: right;\n",
       "    }\n",
       "</style>\n",
       "<table border=\"1\" class=\"dataframe\">\n",
       "  <thead>\n",
       "    <tr style=\"text-align: right;\">\n",
       "      <th>cp</th>\n",
       "      <th>1</th>\n",
       "      <th>2</th>\n",
       "      <th>3</th>\n",
       "      <th>4</th>\n",
       "    </tr>\n",
       "    <tr>\n",
       "      <th>sex</th>\n",
       "      <th></th>\n",
       "      <th></th>\n",
       "      <th></th>\n",
       "      <th></th>\n",
       "    </tr>\n",
       "  </thead>\n",
       "  <tbody>\n",
       "    <tr>\n",
       "      <th>0</th>\n",
       "      <td>4</td>\n",
       "      <td>18</td>\n",
       "      <td>35</td>\n",
       "      <td>40</td>\n",
       "    </tr>\n",
       "    <tr>\n",
       "      <th>1</th>\n",
       "      <td>19</td>\n",
       "      <td>32</td>\n",
       "      <td>51</td>\n",
       "      <td>104</td>\n",
       "    </tr>\n",
       "  </tbody>\n",
       "</table>\n",
       "</div>"
      ],
      "text/plain": [
       "cp    1   2   3    4\n",
       "sex                 \n",
       "0     4  18  35   40\n",
       "1    19  32  51  104"
      ]
     },
     "execution_count": 45,
     "metadata": {},
     "output_type": "execute_result"
    }
   ],
   "source": [
    "## Contingency Table of sex and cp(Chest pain type)\n",
    "contTable1=pd.crosstab(index=hdf['sex'],columns=hdf['cp'])\n",
    "contTable1"
   ]
  },
  {
   "cell_type": "code",
   "execution_count": 46,
   "id": "abd65650",
   "metadata": {},
   "outputs": [
    {
     "data": {
      "text/plain": [
       "(6.79145867175301,\n",
       " 0.07885024424877551,\n",
       " 3,\n",
       " array([[ 7.3630363 , 16.00660066, 27.53135314, 46.0990099 ],\n",
       "        [15.6369637 , 33.99339934, 58.46864686, 97.9009901 ]]))"
      ]
     },
     "execution_count": 46,
     "metadata": {},
     "output_type": "execute_result"
    }
   ],
   "source": [
    "## Chi-square test for independence of sex and cp\n",
    "st.chi2_contingency(contTable1)"
   ]
  },
  {
   "cell_type": "code",
   "execution_count": 47,
   "id": "0fc3a38e",
   "metadata": {},
   "outputs": [
    {
     "data": {
      "text/html": [
       "<div>\n",
       "<style scoped>\n",
       "    .dataframe tbody tr th:only-of-type {\n",
       "        vertical-align: middle;\n",
       "    }\n",
       "\n",
       "    .dataframe tbody tr th {\n",
       "        vertical-align: top;\n",
       "    }\n",
       "\n",
       "    .dataframe thead th {\n",
       "        text-align: right;\n",
       "    }\n",
       "</style>\n",
       "<table border=\"1\" class=\"dataframe\">\n",
       "  <thead>\n",
       "    <tr style=\"text-align: right;\">\n",
       "      <th>fbs</th>\n",
       "      <th>0</th>\n",
       "      <th>1</th>\n",
       "    </tr>\n",
       "    <tr>\n",
       "      <th>ca</th>\n",
       "      <th></th>\n",
       "      <th></th>\n",
       "    </tr>\n",
       "  </thead>\n",
       "  <tbody>\n",
       "    <tr>\n",
       "      <th>0</th>\n",
       "      <td>156</td>\n",
       "      <td>20</td>\n",
       "    </tr>\n",
       "    <tr>\n",
       "      <th>1</th>\n",
       "      <td>58</td>\n",
       "      <td>10</td>\n",
       "    </tr>\n",
       "    <tr>\n",
       "      <th>2</th>\n",
       "      <td>29</td>\n",
       "      <td>10</td>\n",
       "    </tr>\n",
       "    <tr>\n",
       "      <th>3</th>\n",
       "      <td>15</td>\n",
       "      <td>5</td>\n",
       "    </tr>\n",
       "  </tbody>\n",
       "</table>\n",
       "</div>"
      ],
      "text/plain": [
       "fbs    0   1\n",
       "ca          \n",
       "0    156  20\n",
       "1     58  10\n",
       "2     29  10\n",
       "3     15   5"
      ]
     },
     "execution_count": 47,
     "metadata": {},
     "output_type": "execute_result"
    }
   ],
   "source": [
    "## Contingency Table of ca(Number of major vessels (0-3) coloured by fluroscopy) and fbs(Fasting blood sugar)\n",
    "contTable2=pd.crosstab(index=hdf['ca'],columns=hdf['fbs'])\n",
    "contTable2"
   ]
  },
  {
   "cell_type": "code",
   "execution_count": 48,
   "id": "8cedb0be",
   "metadata": {},
   "outputs": [
    {
     "data": {
      "text/plain": [
       "(6.91335019669493,\n",
       " 0.07471148164405114,\n",
       " 3,\n",
       " array([[149.86138614,  26.13861386],\n",
       "        [ 57.9009901 ,  10.0990099 ],\n",
       "        [ 33.20792079,   5.79207921],\n",
       "        [ 17.02970297,   2.97029703]]))"
      ]
     },
     "execution_count": 48,
     "metadata": {},
     "output_type": "execute_result"
    }
   ],
   "source": [
    "# Chi-square test for independence of ca and fbs\n",
    "st.chi2_contingency(contTable2)"
   ]
  },
  {
   "cell_type": "markdown",
   "id": "b67c0744",
   "metadata": {},
   "source": [
    "## Multiple Logistics Regression Model"
   ]
  },
  {
   "cell_type": "code",
   "execution_count": 49,
   "id": "e8020ad8",
   "metadata": {},
   "outputs": [
    {
     "name": "stdout",
     "output_type": "stream",
     "text": [
      "<class 'pandas.core.frame.DataFrame'>\n",
      "RangeIndex: 303 entries, 0 to 302\n",
      "Data columns (total 14 columns):\n",
      " #   Column    Non-Null Count  Dtype  \n",
      "---  ------    --------------  -----  \n",
      " 0   age       303 non-null    int64  \n",
      " 1   sex       303 non-null    int64  \n",
      " 2   cp        303 non-null    int64  \n",
      " 3   trestbps  303 non-null    int64  \n",
      " 4   chol      303 non-null    int64  \n",
      " 5   fbs       303 non-null    int64  \n",
      " 6   restecg   303 non-null    int64  \n",
      " 7   thalach   303 non-null    int64  \n",
      " 8   exange    303 non-null    int64  \n",
      " 9   olpeak    303 non-null    float64\n",
      " 10  slope     303 non-null    int64  \n",
      " 11  ca        303 non-null    int64  \n",
      " 12  tha       303 non-null    int64  \n",
      " 13  target    303 non-null    int64  \n",
      "dtypes: float64(1), int64(13)\n",
      "memory usage: 33.3 KB\n"
     ]
    }
   ],
   "source": [
    "hdf.info()"
   ]
  },
  {
   "cell_type": "code",
   "execution_count": 50,
   "id": "b8f41dc0",
   "metadata": {},
   "outputs": [
    {
     "data": {
      "text/plain": [
       "(     age  sex  cp  trestbps  chol  fbs  restecg  thalach  exange  olpeak  \\\n",
       " 0     63    1   1       145   233    1        2      150       0     2.3   \n",
       " 1     67    1   4       160   286    0        2      108       1     1.5   \n",
       " 2     67    1   4       120   229    0        2      129       1     2.6   \n",
       " 3     37    1   3       130   250    0        0      187       0     3.5   \n",
       " 4     41    0   2       130   204    0        2      172       0     1.4   \n",
       " ..   ...  ...  ..       ...   ...  ...      ...      ...     ...     ...   \n",
       " 298   45    1   1       110   264    0        0      132       0     1.2   \n",
       " 299   68    1   4       144   193    1        0      141       0     3.4   \n",
       " 300   57    1   4       130   131    0        0      115       1     1.2   \n",
       " 301   57    0   2       130   236    0        2      174       0     0.0   \n",
       " 302   38    1   3       138   175    0        0      173       0     0.0   \n",
       " \n",
       "      slope  ca  tha  \n",
       " 0        3   0    6  \n",
       " 1        2   3    3  \n",
       " 2        2   2    7  \n",
       " 3        3   0    3  \n",
       " 4        1   0    3  \n",
       " ..     ...  ..  ...  \n",
       " 298      2   0    7  \n",
       " 299      2   2    7  \n",
       " 300      2   1    7  \n",
       " 301      2   1    3  \n",
       " 302      1   1    3  \n",
       " \n",
       " [303 rows x 13 columns],\n",
       " 0      0\n",
       " 1      1\n",
       " 2      1\n",
       " 3      0\n",
       " 4      0\n",
       "       ..\n",
       " 298    1\n",
       " 299    1\n",
       " 300    1\n",
       " 301    1\n",
       " 302    0\n",
       " Name: target, Length: 303, dtype: int64)"
      ]
     },
     "execution_count": 50,
     "metadata": {},
     "output_type": "execute_result"
    }
   ],
   "source": [
    "## Extracting output and input variables\n",
    "x=hdf.iloc[:,:-1]\n",
    "y=hdf.iloc[:,-1]\n",
    "x,y"
   ]
  },
  {
   "cell_type": "code",
   "execution_count": 51,
   "id": "7ea4edf9",
   "metadata": {},
   "outputs": [],
   "source": [
    "### Sigmoid curve of target versus age"
   ]
  },
  {
   "cell_type": "code",
   "execution_count": 52,
   "id": "0865c9f2",
   "metadata": {},
   "outputs": [
    {
     "data": {
      "text/plain": [
       "<AxesSubplot:xlabel='age', ylabel='target'>"
      ]
     },
     "execution_count": 52,
     "metadata": {},
     "output_type": "execute_result"
    },
    {
     "data": {
      "image/png": "[encoded data removed]",
      "text/plain": [
       "<Figure size 504x504 with 1 Axes>"
      ]
     },
     "metadata": {},
     "output_type": "display_data"
    }
   ],
   "source": [
    "sns.set(rc={'figure.figsize':(7,7)})\n",
    "sns.regplot(x=hdf['age'],y=hdf['target'],data=hdf, logistic=True,ci=None)"
   ]
  },
  {
   "cell_type": "code",
   "execution_count": 296,
   "id": "63a7aacc",
   "metadata": {},
   "outputs": [
    {
     "data": {
      "text/html": [
       "<div>\n",
       "<style scoped>\n",
       "    .dataframe tbody tr th:only-of-type {\n",
       "        vertical-align: middle;\n",
       "    }\n",
       "\n",
       "    .dataframe tbody tr th {\n",
       "        vertical-align: top;\n",
       "    }\n",
       "\n",
       "    .dataframe thead th {\n",
       "        text-align: right;\n",
       "    }\n",
       "</style>\n",
       "<table border=\"1\" class=\"dataframe\">\n",
       "  <thead>\n",
       "    <tr style=\"text-align: right;\">\n",
       "      <th></th>\n",
       "      <th>age</th>\n",
       "      <th>sex</th>\n",
       "      <th>cp</th>\n",
       "      <th>trestbps</th>\n",
       "      <th>chol</th>\n",
       "      <th>fbs</th>\n",
       "      <th>restecg</th>\n",
       "      <th>thalach</th>\n",
       "      <th>exange</th>\n",
       "      <th>olpeak</th>\n",
       "      <th>slope</th>\n",
       "      <th>ca</th>\n",
       "      <th>tha</th>\n",
       "    </tr>\n",
       "  </thead>\n",
       "  <tbody>\n",
       "    <tr>\n",
       "      <th>262</th>\n",
       "      <td>60</td>\n",
       "      <td>0</td>\n",
       "      <td>1</td>\n",
       "      <td>150</td>\n",
       "      <td>240</td>\n",
       "      <td>0</td>\n",
       "      <td>0</td>\n",
       "      <td>171</td>\n",
       "      <td>0</td>\n",
       "      <td>0.9</td>\n",
       "      <td>1</td>\n",
       "      <td>0</td>\n",
       "      <td>3</td>\n",
       "    </tr>\n",
       "    <tr>\n",
       "      <th>17</th>\n",
       "      <td>54</td>\n",
       "      <td>1</td>\n",
       "      <td>4</td>\n",
       "      <td>140</td>\n",
       "      <td>239</td>\n",
       "      <td>0</td>\n",
       "      <td>0</td>\n",
       "      <td>160</td>\n",
       "      <td>0</td>\n",
       "      <td>1.2</td>\n",
       "      <td>1</td>\n",
       "      <td>0</td>\n",
       "      <td>3</td>\n",
       "    </tr>\n",
       "    <tr>\n",
       "      <th>89</th>\n",
       "      <td>51</td>\n",
       "      <td>0</td>\n",
       "      <td>3</td>\n",
       "      <td>130</td>\n",
       "      <td>256</td>\n",
       "      <td>0</td>\n",
       "      <td>2</td>\n",
       "      <td>149</td>\n",
       "      <td>0</td>\n",
       "      <td>0.5</td>\n",
       "      <td>1</td>\n",
       "      <td>0</td>\n",
       "      <td>3</td>\n",
       "    </tr>\n",
       "    <tr>\n",
       "      <th>138</th>\n",
       "      <td>35</td>\n",
       "      <td>1</td>\n",
       "      <td>4</td>\n",
       "      <td>120</td>\n",
       "      <td>198</td>\n",
       "      <td>0</td>\n",
       "      <td>0</td>\n",
       "      <td>130</td>\n",
       "      <td>1</td>\n",
       "      <td>1.6</td>\n",
       "      <td>2</td>\n",
       "      <td>0</td>\n",
       "      <td>7</td>\n",
       "    </tr>\n",
       "    <tr>\n",
       "      <th>47</th>\n",
       "      <td>50</td>\n",
       "      <td>1</td>\n",
       "      <td>4</td>\n",
       "      <td>150</td>\n",
       "      <td>243</td>\n",
       "      <td>0</td>\n",
       "      <td>2</td>\n",
       "      <td>128</td>\n",
       "      <td>0</td>\n",
       "      <td>2.6</td>\n",
       "      <td>2</td>\n",
       "      <td>0</td>\n",
       "      <td>7</td>\n",
       "    </tr>\n",
       "    <tr>\n",
       "      <th>...</th>\n",
       "      <td>...</td>\n",
       "      <td>...</td>\n",
       "      <td>...</td>\n",
       "      <td>...</td>\n",
       "      <td>...</td>\n",
       "      <td>...</td>\n",
       "      <td>...</td>\n",
       "      <td>...</td>\n",
       "      <td>...</td>\n",
       "      <td>...</td>\n",
       "      <td>...</td>\n",
       "      <td>...</td>\n",
       "      <td>...</td>\n",
       "    </tr>\n",
       "    <tr>\n",
       "      <th>148</th>\n",
       "      <td>45</td>\n",
       "      <td>1</td>\n",
       "      <td>2</td>\n",
       "      <td>128</td>\n",
       "      <td>308</td>\n",
       "      <td>0</td>\n",
       "      <td>2</td>\n",
       "      <td>170</td>\n",
       "      <td>0</td>\n",
       "      <td>0.0</td>\n",
       "      <td>1</td>\n",
       "      <td>0</td>\n",
       "      <td>3</td>\n",
       "    </tr>\n",
       "    <tr>\n",
       "      <th>14</th>\n",
       "      <td>52</td>\n",
       "      <td>1</td>\n",
       "      <td>3</td>\n",
       "      <td>172</td>\n",
       "      <td>199</td>\n",
       "      <td>1</td>\n",
       "      <td>0</td>\n",
       "      <td>162</td>\n",
       "      <td>0</td>\n",
       "      <td>0.5</td>\n",
       "      <td>1</td>\n",
       "      <td>0</td>\n",
       "      <td>7</td>\n",
       "    </tr>\n",
       "    <tr>\n",
       "      <th>175</th>\n",
       "      <td>57</td>\n",
       "      <td>1</td>\n",
       "      <td>4</td>\n",
       "      <td>152</td>\n",
       "      <td>274</td>\n",
       "      <td>0</td>\n",
       "      <td>0</td>\n",
       "      <td>88</td>\n",
       "      <td>1</td>\n",
       "      <td>1.2</td>\n",
       "      <td>2</td>\n",
       "      <td>1</td>\n",
       "      <td>7</td>\n",
       "    </tr>\n",
       "    <tr>\n",
       "      <th>26</th>\n",
       "      <td>58</td>\n",
       "      <td>0</td>\n",
       "      <td>3</td>\n",
       "      <td>120</td>\n",
       "      <td>340</td>\n",
       "      <td>0</td>\n",
       "      <td>0</td>\n",
       "      <td>172</td>\n",
       "      <td>0</td>\n",
       "      <td>0.0</td>\n",
       "      <td>1</td>\n",
       "      <td>0</td>\n",
       "      <td>3</td>\n",
       "    </tr>\n",
       "    <tr>\n",
       "      <th>39</th>\n",
       "      <td>61</td>\n",
       "      <td>1</td>\n",
       "      <td>3</td>\n",
       "      <td>150</td>\n",
       "      <td>243</td>\n",
       "      <td>1</td>\n",
       "      <td>0</td>\n",
       "      <td>137</td>\n",
       "      <td>1</td>\n",
       "      <td>1.0</td>\n",
       "      <td>2</td>\n",
       "      <td>0</td>\n",
       "      <td>3</td>\n",
       "    </tr>\n",
       "  </tbody>\n",
       "</table>\n",
       "<p>61 rows × 13 columns</p>\n",
       "</div>"
      ],
      "text/plain": [
       "     age  sex  cp  trestbps  chol  fbs  restecg  thalach  exange  olpeak  \\\n",
       "262   60    0   1       150   240    0        0      171       0     0.9   \n",
       "17    54    1   4       140   239    0        0      160       0     1.2   \n",
       "89    51    0   3       130   256    0        2      149       0     0.5   \n",
       "138   35    1   4       120   198    0        0      130       1     1.6   \n",
       "47    50    1   4       150   243    0        2      128       0     2.6   \n",
       "..   ...  ...  ..       ...   ...  ...      ...      ...     ...     ...   \n",
       "148   45    1   2       128   308    0        2      170       0     0.0   \n",
       "14    52    1   3       172   199    1        0      162       0     0.5   \n",
       "175   57    1   4       152   274    0        0       88       1     1.2   \n",
       "26    58    0   3       120   340    0        0      172       0     0.0   \n",
       "39    61    1   3       150   243    1        0      137       1     1.0   \n",
       "\n",
       "     slope  ca  tha  \n",
       "262      1   0    3  \n",
       "17       1   0    3  \n",
       "89       1   0    3  \n",
       "138      2   0    7  \n",
       "47       2   0    7  \n",
       "..     ...  ..  ...  \n",
       "148      1   0    3  \n",
       "14       1   0    7  \n",
       "175      2   1    7  \n",
       "26       1   0    3  \n",
       "39       2   0    3  \n",
       "\n",
       "[61 rows x 13 columns]"
      ]
     },
     "execution_count": 296,
     "metadata": {},
     "output_type": "execute_result"
    }
   ],
   "source": [
    "## Splitting of dataset as training and test set\n",
    "from sklearn.model_selection import train_test_split\n",
    "x_train,x_test,y_train,y_test=train_test_split(x,y,test_size=0.20)\n",
    "x_test"
   ]
  },
  {
   "cell_type": "code",
   "execution_count": 297,
   "id": "e16af4d6",
   "metadata": {},
   "outputs": [
    {
     "data": {
      "text/plain": [
       "array([[ 0.57926614, -1.39686059, -2.53815006,  1.08279931, -0.13152459,\n",
       "        -0.41119597, -0.97557603,  0.95922586, -0.70929937, -0.12611524,\n",
       "        -1.00262278, -0.76104094, -0.87612572],\n",
       "       [-0.07123226,  0.71589105,  0.87425169,  0.50689286, -0.15025852,\n",
       "        -0.41119597, -0.97557603,  0.48469339, -0.70929937,  0.13698724,\n",
       "        -1.00262278, -0.76104094, -0.87612572],\n",
       "       [-0.39648146, -1.39686059, -0.26321556, -0.06901358,  0.16821832,\n",
       "        -0.41119597,  1.04228208,  0.01016091, -0.70929937, -0.47691854,\n",
       "        -1.00262278, -0.76104094, -0.87612572],\n",
       "       [-2.13114386,  0.71589105,  0.87425169, -0.64492003, -0.91834971,\n",
       "        -0.41119597, -0.97557603, -0.80948609,  1.40984195,  0.48779054,\n",
       "         0.62579811, -0.76104094,  1.2025255 ],\n",
       "       [-0.50489786,  0.71589105,  0.87425169,  1.08279931, -0.07532279,\n",
       "        -0.41119597,  1.04228208, -0.89576472, -0.70929937,  1.3647988 ,\n",
       "         0.62579811, -0.76104094,  1.2025255 ],\n",
       "       [ 0.25401694,  0.71589105,  0.87425169, -1.22082647,  1.64819891,\n",
       "        -0.41119597, -0.97557603, -0.24867498,  1.40984195,  1.7156021 ,\n",
       "         0.62579811,  0.2678524 ,  1.2025255 ],\n",
       "       [ 0.36243334, -1.39686059, -2.53815006,  1.08279931,  0.67403447,\n",
       "         2.43193045,  1.04228208,  0.57097202, -0.70929937, -0.03841441,\n",
       "        -1.00262278, -0.76104094, -0.87612572],\n",
       "       [ 0.90451533,  0.71589105, -2.53815006,  0.79484609, -0.26266211,\n",
       "         2.43193045,  1.04228208,  0.05330023, -0.70929937,  1.10169632,\n",
       "         2.254219  , -0.76104094,  0.6828627 ],\n",
       "       [-0.83014706,  0.71589105,  0.87425169, -1.22082647,  0.52416302,\n",
       "        -0.41119597,  1.04228208, -1.32715788,  1.40984195, -0.03841441,\n",
       "         0.62579811,  0.2678524 , -0.87612572],\n",
       "       [ 0.90451533, -1.39686059, -0.26321556,  0.21893964,  0.09328259,\n",
       "        -0.41119597,  1.04228208,  1.00236518, -0.70929937, -0.91542267,\n",
       "        -1.00262278, -0.76104094, -0.87612572],\n",
       "       [-1.26381266,  0.71589105,  0.87425169, -1.22082647, -0.6748086 ,\n",
       "        -0.41119597, -0.97557603,  0.5278327 , -0.70929937, -0.91542267,\n",
       "        -1.00262278, -0.76104094,  1.2025255 ],\n",
       "       [ 0.90451533,  0.71589105,  0.87425169, -0.06901358,  0.13075046,\n",
       "        -0.41119597,  1.04228208, -0.07611772, -0.70929937,  0.31238889,\n",
       "         0.62579811,  0.2678524 ,  1.2025255 ],\n",
       "       [-0.17964866, -1.39686059,  0.87425169,  0.39171157, -0.24392817,\n",
       "        -0.41119597,  1.04228208,  0.48469339, -0.70929937, -0.91542267,\n",
       "        -1.00262278, -0.76104094, -0.87612572],\n",
       "       [-0.39648146, -1.39686059, -0.26321556,  0.50689286,  1.14238276,\n",
       "        -0.41119597,  1.04228208, -0.2918143 , -0.70929937,  0.40008972,\n",
       "        -1.00262278,  0.2678524 , -0.87612572],\n",
       "       [ 0.36243334,  0.71589105,  0.87425169,  1.08279931,  0.43049336,\n",
       "        -0.41119597,  1.04228208, -1.62913309,  1.40984195, -0.21381606,\n",
       "        -1.00262278, -0.76104094,  1.2025255 ],\n",
       "       [-0.07123226, -1.39686059, -1.40068281,  0.04616771,  0.76770413,\n",
       "         2.43193045,  1.04228208,  0.44155407,  1.40984195, -0.91542267,\n",
       "        -1.00262278,  0.2678524 , -0.87612572],\n",
       "       [-1.58906186,  0.71589105, -2.53815006,  0.50689286, -0.89961578,\n",
       "        -0.41119597, -0.97557603,  1.26120107,  1.40984195,  0.31238889,\n",
       "        -1.00262278, -0.76104094,  1.2025255 ],\n",
       "       [-0.28806506,  0.71589105,  0.87425169, -1.10564518, -0.3188639 ,\n",
       "        -0.41119597, -0.97557603,  0.48469339, -0.70929937, -0.91542267,\n",
       "        -1.00262278,  0.2678524 , -0.87612572],\n",
       "       [-0.28806506,  0.71589105,  0.87425169, -0.18419487,  0.14948439,\n",
       "        -0.41119597, -0.97557603,  0.5278327 ,  1.40984195, -0.91542267,\n",
       "        -1.00262278,  0.2678524 ,  1.2025255 ],\n",
       "       [-0.28806506,  0.71589105, -1.40068281, -0.18419487, -0.78721219,\n",
       "         2.43193045, -0.97557603,  1.52003697, -0.70929937, -0.91542267,\n",
       "        -1.00262278, -0.76104094, -0.87612572],\n",
       "       [-1.04697986,  0.71589105, -2.53815006, -1.22082647,  0.31808977,\n",
       "        -0.41119597, -0.97557603, -0.72320746, -0.70929937,  0.13698724,\n",
       "         0.62579811, -0.76104094,  1.2025255 ],\n",
       "       [ 0.36243334, -1.39686059,  0.87425169, -0.06901358, -0.93708364,\n",
       "        -0.41119597, -0.97557603, -0.76634677, -0.70929937, -0.38921771,\n",
       "         0.62579811, -0.76104094, -0.87612572],\n",
       "       [ 1.66343013,  0.71589105, -1.40068281,  1.42834318, -0.03785493,\n",
       "        -0.41119597,  1.04228208, -0.24867498, -0.70929937, -0.91542267,\n",
       "        -1.00262278, -0.76104094, -0.87612572],\n",
       "       [ 1.12134813,  0.71589105, -2.53815006,  0.39171157,  0.65530054,\n",
       "         2.43193045,  1.04228208,  1.08864381, -0.70929937,  0.31238889,\n",
       "         0.62579811,  0.2678524 , -0.87612572],\n",
       "       [-0.07123226,  0.71589105, -1.40068281, -1.33600776,  1.16111669,\n",
       "        -0.41119597, -0.97557603,  0.31213612, -0.70929937, -0.91542267,\n",
       "        -1.00262278, -0.76104094,  1.2025255 ],\n",
       "       [ 0.36243334, -1.39686059,  0.87425169, -1.79673292,  0.01834687,\n",
       "        -0.41119597,  1.04228208, -1.15460061, -0.70929937, -0.03841441,\n",
       "         0.62579811, -0.76104094, -0.87612572],\n",
       "       [ 1.22976453, -1.39686059,  0.87425169,  2.69533736, -0.35633176,\n",
       "         2.43193045, -0.97557603,  0.70038997,  1.40984195, -0.03841441,\n",
       "         0.62579811,  1.29674574,  1.2025255 ],\n",
       "       [ 0.68768254,  0.71589105,  0.87425169,  0.96761802, -0.82468005,\n",
       "        -0.41119597, -0.97557603,  0.5278327 , -0.70929937, -0.91542267,\n",
       "        -1.00262278,  0.2678524 ,  1.2025255 ],\n",
       "       [ 0.25401694, -1.39686059, -1.40068281, -0.06901358, -0.20646031,\n",
       "        -0.41119597,  1.04228208,  1.08864381, -0.70929937, -0.91542267,\n",
       "         0.62579811,  0.2678524 , -0.87612572],\n",
       "       [-1.26381266,  0.71589105,  0.87425169, -0.93287325,  1.0487131 ,\n",
       "        -0.41119597, -0.97557603,  1.39061902, -0.70929937,  0.13698724,\n",
       "         0.62579811, -0.76104094, -0.87612572],\n",
       "       [-1.15539626,  0.71589105, -0.26321556, -0.64492003, -0.39379963,\n",
       "        -0.41119597, -0.97557603,  0.87294723, -0.70929937, -0.91542267,\n",
       "        -1.00262278, -0.76104094, -0.87612572],\n",
       "       [ 0.25401694,  0.71589105,  0.87425169, -1.22082647, -0.86214791,\n",
       "        -0.41119597, -0.97557603, -0.98204335,  1.40984195,  0.40008972,\n",
       "         0.62579811, -0.76104094,  0.6828627 ],\n",
       "       [ 0.14560054,  0.71589105, -2.53815006, -0.64492003, -1.01201937,\n",
       "        -0.41119597,  1.04228208,  0.57097202, -0.70929937,  0.75089302,\n",
       "         0.62579811, -0.76104094,  1.2025255 ],\n",
       "       [ 0.90451533, -1.39686059,  0.87425169,  1.08279931,  2.99704198,\n",
       "        -0.41119597,  1.04228208,  0.22585749, -0.70929937,  2.59261036,\n",
       "         0.62579811,  2.32563907,  1.2025255 ],\n",
       "       [-1.37222906, -1.39686059, -0.26321556, -0.64492003, -0.71227646,\n",
       "        -0.41119597, -0.97557603,  1.04550449, -0.70929937, -0.91542267,\n",
       "         0.62579811, -0.76104094, -0.87612572],\n",
       "       [ 1.12134813,  0.71589105,  0.87425169, -1.22082647,  0.01834687,\n",
       "        -0.41119597,  1.04228208,  0.39841476, -0.70929937, -0.38921771,\n",
       "        -1.00262278,  1.29674574,  0.6828627 ],\n",
       "       [-1.48064546,  0.71589105, -1.40068281, -0.64492003, -1.6864409 ,\n",
       "        -0.41119597, -0.97557603,  1.43375834, -0.70929937, -0.91542267,\n",
       "        -1.00262278, -0.76104094, -0.87612572],\n",
       "       [-2.13114386,  0.71589105,  0.87425169, -0.29937616,  0.65530054,\n",
       "        -0.41119597,  1.04228208,  0.31213612,  1.40984195, -0.91542267,\n",
       "        -1.00262278, -0.76104094,  1.2025255 ],\n",
       "       [ 1.01293173,  0.71589105, -2.53815006,  2.2346122 , -0.37506569,\n",
       "        -0.41119597,  1.04228208,  0.26899681, -0.70929937, -0.38921771,\n",
       "         0.62579811, -0.76104094,  1.2025255 ],\n",
       "       [ 0.47084974,  0.71589105, -2.53815006,  2.69533736,  0.43049336,\n",
       "        -0.41119597,  1.04228208, -0.16239635, -0.70929937,  2.76801201,\n",
       "         2.254219  , -0.76104094,  1.2025255 ],\n",
       "       [ 0.25401694,  0.71589105, -1.40068281, -0.41455745,  0.26188798,\n",
       "        -0.41119597, -0.97557603, -0.33495361, -0.70929937, -0.65232019,\n",
       "        -1.00262278, -0.76104094,  1.2025255 ],\n",
       "       [ 0.90451533, -1.39686059, -1.40068281,  0.50689286, -0.9745515 ,\n",
       "        -0.41119597, -0.97557603,  1.30434039, -0.70929937, -0.91542267,\n",
       "        -1.00262278,  1.29674574, -0.87612572],\n",
       "       [-0.17964866,  0.71589105,  0.87425169,  0.50689286, -0.82468005,\n",
       "         2.43193045,  1.04228208,  0.26899681,  1.40984195,  1.80330293,\n",
       "         2.254219  , -0.76104094,  1.2025255 ],\n",
       "       [ 0.36243334,  0.71589105, -0.26321556,  0.50689286, -0.6748086 ,\n",
       "         2.43193045,  1.04228208,  0.70038997, -0.70929937, -0.91542267,\n",
       "        -1.00262278, -0.76104094, -0.87612572],\n",
       "       [-1.48064546,  0.71589105, -1.40068281, -1.22082647, -0.22519424,\n",
       "        -0.41119597, -0.97557603,  0.18271818, -0.70929937, -0.91542267,\n",
       "        -1.00262278, -0.76104094, -0.87612572],\n",
       "       [ 0.47084974,  0.71589105, -2.53815006,  2.2346122 ,  0.76770413,\n",
       "        -0.41119597,  1.04228208,  0.44155407, -0.70929937, -0.74002102,\n",
       "         0.62579811, -0.76104094,  1.2025255 ],\n",
       "       [-1.37222906,  0.71589105, -2.53815006,  0.96761802, -0.05658886,\n",
       "        -0.41119597,  1.04228208,  1.26120107, -0.70929937, -0.21381606,\n",
       "        -1.00262278,  1.29674574, -0.87612572],\n",
       "       [-0.07123226,  0.71589105, -0.26321556, -0.64492003,  0.20568618,\n",
       "        -0.41119597,  1.04228208, -0.07611772, -0.70929937, -0.56461937,\n",
       "         0.62579811, -0.76104094,  1.2025255 ],\n",
       "       [-0.50489786,  0.71589105, -0.26321556,  0.50689286, -0.26266211,\n",
       "        -0.41119597, -0.97557603,  0.61411133, -0.70929937, -0.38921771,\n",
       "         0.62579811,  0.2678524 ,  1.2025255 ],\n",
       "       [-1.04697986,  0.71589105,  0.87425169, -0.93287325,  0.24315404,\n",
       "        -0.41119597,  1.04228208,  1.56317628, -0.70929937, -0.91542267,\n",
       "        -1.00262278, -0.76104094, -0.87612572],\n",
       "       [ 0.57926614,  0.71589105,  0.87425169,  0.79484609,  0.65530054,\n",
       "        -0.41119597,  1.04228208, -0.2918143 ,  1.40984195,  1.54020045,\n",
       "         0.62579811,  1.29674574,  1.2025255 ],\n",
       "       [-0.39648146,  0.71589105, -2.53815006, -0.35696681, -0.63734074,\n",
       "        -0.41119597,  1.04228208, -1.02518267,  1.40984195,  0.31238889,\n",
       "        -1.00262278,  0.2678524 , -0.87612572],\n",
       "       [ 0.03718414,  0.71589105,  0.87425169,  0.50689286, -0.56240501,\n",
       "        -0.41119597, -0.97557603, -1.62913309,  1.40984195,  3.99582357,\n",
       "         2.254219  , -0.76104094,  1.2025255 ],\n",
       "       [ 0.68768254,  0.71589105,  0.87425169,  0.39171157, -1.51783552,\n",
       "        -0.41119597,  1.04228208, -1.02518267,  1.40984195,  2.24180706,\n",
       "         0.62579811,  0.2678524 , -0.87612572],\n",
       "       [-1.15539626,  0.71589105, -1.40068281, -0.06901358, -0.52493715,\n",
       "        -0.41119597,  1.04228208,  1.69259423, -0.70929937, -0.91542267,\n",
       "        -1.00262278, -0.76104094, -0.87612572],\n",
       "       [-1.26381266,  0.71589105,  0.87425169, -0.64492003, -1.31176227,\n",
       "        -0.41119597,  1.04228208, -1.24087925,  1.40984195,  1.27709797,\n",
       "         0.62579811, -0.76104094,  1.2025255 ],\n",
       "       [-1.04697986,  0.71589105, -1.40068281, -0.18419487,  1.14238276,\n",
       "        -0.41119597,  1.04228208,  0.91608655, -0.70929937, -0.91542267,\n",
       "        -1.00262278, -0.76104094, -0.87612572],\n",
       "       [-0.28806506,  0.71589105, -0.26321556,  2.34979349, -0.89961578,\n",
       "         2.43193045, -0.97557603,  0.57097202, -0.70929937, -0.47691854,\n",
       "        -1.00262278, -0.76104094,  1.2025255 ],\n",
       "       [ 0.25401694,  0.71589105,  0.87425169,  1.1979806 ,  0.50542909,\n",
       "        -0.41119597, -0.97557603, -2.62133735,  1.40984195,  0.13698724,\n",
       "         0.62579811,  0.2678524 ,  1.2025255 ],\n",
       "       [ 0.36243334, -1.39686059, -0.26321556, -0.64492003,  1.74186857,\n",
       "        -0.41119597, -0.97557603,  1.00236518, -0.70929937, -0.91542267,\n",
       "        -1.00262278, -0.76104094, -0.87612572],\n",
       "       [ 0.68768254,  0.71589105, -0.26321556,  1.08279931, -0.07532279,\n",
       "         2.43193045, -0.97557603, -0.50751088,  1.40984195, -0.03841441,\n",
       "         0.62579811, -0.76104094, -0.87612572]])"
      ]
     },
     "execution_count": 297,
     "metadata": {},
     "output_type": "execute_result"
    }
   ],
   "source": [
    "# Feature Scaling using StandarScaler\n",
    "from sklearn.preprocessing import StandardScaler\n",
    "scaler=StandardScaler()\n",
    "X_train=scaler.fit_transform(x_train)\n",
    "X_test=scaler.transform(x_test)\n",
    "X_test"
   ]
  },
  {
   "cell_type": "code",
   "execution_count": 298,
   "id": "c303b266",
   "metadata": {},
   "outputs": [
    {
     "name": "stderr",
     "output_type": "stream",
     "text": [
      "C:\\ProgramData\\Anaconda3\\lib\\site-packages\\sklearn\\linear_model\\_logistic.py:763: ConvergenceWarning: lbfgs failed to converge (status=1):\n",
      "STOP: TOTAL NO. of ITERATIONS REACHED LIMIT.\n",
      "\n",
      "Increase the number of iterations (max_iter) or scale the data as shown in:\n",
      "    https://scikit-learn.org/stable/modules/preprocessing.html\n",
      "Please also refer to the documentation for alternative solver options:\n",
      "    https://scikit-learn.org/stable/modules/linear_model.html#logistic-regression\n",
      "  n_iter_i = _check_optimize_result(\n"
     ]
    },
    {
     "data": {
      "text/plain": [
       "LogisticRegression()"
      ]
     },
     "execution_count": 298,
     "metadata": {},
     "output_type": "execute_result"
    }
   ],
   "source": [
    "## Logistic Model using sklearn on training dataset\n",
    "from sklearn.linear_model import LogisticRegression\n",
    "LRModel=LogisticRegression()\n",
    "\n",
    "LRModel.fit(x_train,y_train)"
   ]
  },
  {
   "cell_type": "code",
   "execution_count": 299,
   "id": "eb91477a",
   "metadata": {},
   "outputs": [
    {
     "data": {
      "text/plain": [
       "array([0, 0, 0, 1, 1, 1, 0, 0, 1, 0, 0, 1, 0, 1, 1, 0, 0, 0, 1, 0, 0, 0,\n",
       "       0, 0, 0, 0, 1, 1, 0, 0, 0, 1, 0, 1, 0, 1, 0, 1, 0, 1, 0, 0, 1, 0,\n",
       "       0, 0, 0, 1, 1, 0, 1, 1, 1, 1, 0, 1, 0, 0, 1, 0, 0], dtype=int64)"
      ]
     },
     "execution_count": 299,
     "metadata": {},
     "output_type": "execute_result"
    }
   ],
   "source": [
    "pred=LRModel.predict(x_test)\n",
    "pred"
   ]
  },
  {
   "cell_type": "code",
   "execution_count": 300,
   "id": "7cef0303",
   "metadata": {},
   "outputs": [],
   "source": [
    "train=pd.concat([x_train,y_train],axis=1,join='inner')\n",
    "train.to_csv(r'C:\\Users\\Asus\\OneDrive\\Desktop\\MSc_Statistics\\ST-406 Project\\Hearttrain.csv',index=False)"
   ]
  },
  {
   "cell_type": "code",
   "execution_count": 301,
   "id": "4ab695eb",
   "metadata": {},
   "outputs": [
    {
     "name": "stdout",
     "output_type": "stream",
     "text": [
      "Optimization terminated successfully.\n",
      "         Current function value: 0.338995\n",
      "         Iterations 7\n"
     ]
    }
   ],
   "source": [
    "log_rego=smf.logit(\"target~age+sex+cp+trestbps+chol+fbs+restecg+thalach+exange+olpeak+slope+ca+tha\",data=train).fit()"
   ]
  },
  {
   "cell_type": "code",
   "execution_count": 302,
   "id": "67714e3f",
   "metadata": {},
   "outputs": [
    {
     "data": {
      "text/html": [
       "<table class=\"simpletable\">\n",
       "<tr>\n",
       "        <td>Model:</td>              <td>Logit</td>      <td>Pseudo R-squared:</td>    <td>0.510</td>  \n",
       "</tr>\n",
       "<tr>\n",
       "  <td>Dependent Variable:</td>      <td>target</td>            <td>AIC:</td>         <td>192.0738</td> \n",
       "</tr>\n",
       "<tr>\n",
       "         <td>Date:</td>        <td>2022-05-19 16:18</td>       <td>BIC:</td>         <td>240.9189</td> \n",
       "</tr>\n",
       "<tr>\n",
       "   <td>No. Observations:</td>         <td>242</td>        <td>Log-Likelihood:</td>    <td>-82.037</td> \n",
       "</tr>\n",
       "<tr>\n",
       "       <td>Df Model:</td>             <td>13</td>            <td>LL-Null:</td>        <td>-167.34</td> \n",
       "</tr>\n",
       "<tr>\n",
       "     <td>Df Residuals:</td>           <td>228</td>         <td>LLR p-value:</td>    <td>1.3946e-29</td>\n",
       "</tr>\n",
       "<tr>\n",
       "      <td>Converged:</td>           <td>1.0000</td>           <td>Scale:</td>         <td>1.0000</td>  \n",
       "</tr>\n",
       "<tr>\n",
       "    <td>No. Iterations:</td>        <td>7.0000</td>              <td></td>               <td></td>     \n",
       "</tr>\n",
       "</table>\n",
       "<table class=\"simpletable\">\n",
       "<tr>\n",
       "      <td></td>       <th>Coef.</th>  <th>Std.Err.</th>    <th>z</th>     <th>P>|z|</th>  <th>[0.025</th>  <th>0.975]</th> \n",
       "</tr>\n",
       "<tr>\n",
       "  <th>Intercept</th> <td>-7.0266</td>  <td>3.2786</td>  <td>-2.1432</td> <td>0.0321</td> <td>-13.4525</td> <td>-0.6008</td>\n",
       "</tr>\n",
       "<tr>\n",
       "  <th>age</th>       <td>-0.0151</td>  <td>0.0271</td>  <td>-0.5567</td> <td>0.5778</td>  <td>-0.0682</td> <td>0.0380</td> \n",
       "</tr>\n",
       "<tr>\n",
       "  <th>sex</th>       <td>1.3188</td>   <td>0.5415</td>  <td>2.4354</td>  <td>0.0149</td>  <td>0.2574</td>  <td>2.3802</td> \n",
       "</tr>\n",
       "<tr>\n",
       "  <th>cp</th>        <td>0.5737</td>   <td>0.2403</td>  <td>2.3872</td>  <td>0.0170</td>  <td>0.1027</td>  <td>1.0446</td> \n",
       "</tr>\n",
       "<tr>\n",
       "  <th>trestbps</th>  <td>0.0299</td>   <td>0.0125</td>  <td>2.3834</td>  <td>0.0172</td>  <td>0.0053</td>  <td>0.0545</td> \n",
       "</tr>\n",
       "<tr>\n",
       "  <th>chol</th>      <td>0.0037</td>   <td>0.0041</td>  <td>0.8989</td>  <td>0.3687</td>  <td>-0.0043</td> <td>0.0116</td> \n",
       "</tr>\n",
       "<tr>\n",
       "  <th>fbs</th>       <td>-0.6695</td>  <td>0.6021</td>  <td>-1.1120</td> <td>0.2661</td>  <td>-1.8497</td> <td>0.5106</td> \n",
       "</tr>\n",
       "<tr>\n",
       "  <th>restecg</th>   <td>0.3622</td>   <td>0.2095</td>  <td>1.7283</td>  <td>0.0839</td>  <td>-0.0485</td> <td>0.7728</td> \n",
       "</tr>\n",
       "<tr>\n",
       "  <th>thalach</th>   <td>-0.0241</td>  <td>0.0113</td>  <td>-2.1327</td> <td>0.0329</td>  <td>-0.0462</td> <td>-0.0020</td>\n",
       "</tr>\n",
       "<tr>\n",
       "  <th>exange</th>    <td>1.1265</td>   <td>0.4587</td>  <td>2.4557</td>  <td>0.0141</td>  <td>0.2274</td>  <td>2.0256</td> \n",
       "</tr>\n",
       "<tr>\n",
       "  <th>olpeak</th>    <td>0.5165</td>   <td>0.2365</td>  <td>2.1838</td>  <td>0.0290</td>  <td>0.0529</td>  <td>0.9801</td> \n",
       "</tr>\n",
       "<tr>\n",
       "  <th>slope</th>     <td>0.2996</td>   <td>0.4041</td>  <td>0.7414</td>  <td>0.4585</td>  <td>-0.4924</td> <td>1.0916</td> \n",
       "</tr>\n",
       "<tr>\n",
       "  <th>ca</th>        <td>0.9892</td>   <td>0.2723</td>  <td>3.6324</td>  <td>0.0003</td>  <td>0.4555</td>  <td>1.5230</td> \n",
       "</tr>\n",
       "<tr>\n",
       "  <th>tha</th>       <td>0.3244</td>   <td>0.1134</td>  <td>2.8617</td>  <td>0.0042</td>  <td>0.1022</td>  <td>0.5466</td> \n",
       "</tr>\n",
       "</table>"
      ],
      "text/plain": [
       "<class 'statsmodels.iolib.summary2.Summary'>\n",
       "\"\"\"\n",
       "                         Results: Logit\n",
       "=================================================================\n",
       "Model:              Logit            Pseudo R-squared: 0.510     \n",
       "Dependent Variable: target           AIC:              192.0738  \n",
       "Date:               2022-05-19 16:18 BIC:              240.9189  \n",
       "No. Observations:   242              Log-Likelihood:   -82.037   \n",
       "Df Model:           13               LL-Null:          -167.34   \n",
       "Df Residuals:       228              LLR p-value:      1.3946e-29\n",
       "Converged:          1.0000           Scale:            1.0000    \n",
       "No. Iterations:     7.0000                                       \n",
       "------------------------------------------------------------------\n",
       "              Coef.   Std.Err.     z     P>|z|    [0.025    0.975]\n",
       "------------------------------------------------------------------\n",
       "Intercept    -7.0266    3.2786  -2.1432  0.0321  -13.4525  -0.6008\n",
       "age          -0.0151    0.0271  -0.5567  0.5778   -0.0682   0.0380\n",
       "sex           1.3188    0.5415   2.4354  0.0149    0.2574   2.3802\n",
       "cp            0.5737    0.2403   2.3872  0.0170    0.1027   1.0446\n",
       "trestbps      0.0299    0.0125   2.3834  0.0172    0.0053   0.0545\n",
       "chol          0.0037    0.0041   0.8989  0.3687   -0.0043   0.0116\n",
       "fbs          -0.6695    0.6021  -1.1120  0.2661   -1.8497   0.5106\n",
       "restecg       0.3622    0.2095   1.7283  0.0839   -0.0485   0.7728\n",
       "thalach      -0.0241    0.0113  -2.1327  0.0329   -0.0462  -0.0020\n",
       "exange        1.1265    0.4587   2.4557  0.0141    0.2274   2.0256\n",
       "olpeak        0.5165    0.2365   2.1838  0.0290    0.0529   0.9801\n",
       "slope         0.2996    0.4041   0.7414  0.4585   -0.4924   1.0916\n",
       "ca            0.9892    0.2723   3.6324  0.0003    0.4555   1.5230\n",
       "tha           0.3244    0.1134   2.8617  0.0042    0.1022   0.5466\n",
       "=================================================================\n",
       "\n",
       "\"\"\""
      ]
     },
     "execution_count": 302,
     "metadata": {},
     "output_type": "execute_result"
    }
   ],
   "source": [
    "log_rego.summary2()"
   ]
  },
  {
   "cell_type": "code",
   "execution_count": 303,
   "id": "a02dc4d7",
   "metadata": {},
   "outputs": [
    {
     "name": "stdout",
     "output_type": "stream",
     "text": [
      "Optimization terminated successfully.\n",
      "         Current function value: 0.314349\n",
      "         Iterations 8\n"
     ]
    }
   ],
   "source": [
    "log_reg=smf.logit(\"target~age+pd.Categorical(sex)+pd.Categorical(cp)+trestbps+chol+pd.Categorical(fbs)+pd.Categorical(restecg)+thalach+pd.Categorical(exange)+olpeak+pd.Categorical(slope)+pd.Categorical(ca)+pd.Categorical(tha)\",data=train).fit()"
   ]
  },
  {
   "cell_type": "markdown",
   "id": "71a24a59",
   "metadata": {},
   "source": [
    "### Summary of Logistics Regression Model on Original data"
   ]
  },
  {
   "cell_type": "code",
   "execution_count": 304,
   "id": "b1d06b31",
   "metadata": {},
   "outputs": [
    {
     "data": {
      "text/html": [
       "<table class=\"simpletable\">\n",
       "<tr>\n",
       "        <td>Model:</td>              <td>Logit</td>      <td>Pseudo R-squared:</td>    <td>0.545</td>  \n",
       "</tr>\n",
       "<tr>\n",
       "  <td>Dependent Variable:</td>      <td>target</td>            <td>AIC:</td>         <td>194.1451</td> \n",
       "</tr>\n",
       "<tr>\n",
       "         <td>Date:</td>        <td>2022-05-19 16:18</td>       <td>BIC:</td>         <td>267.4128</td> \n",
       "</tr>\n",
       "<tr>\n",
       "   <td>No. Observations:</td>         <td>242</td>        <td>Log-Likelihood:</td>    <td>-76.073</td> \n",
       "</tr>\n",
       "<tr>\n",
       "       <td>Df Model:</td>             <td>20</td>            <td>LL-Null:</td>        <td>-167.34</td> \n",
       "</tr>\n",
       "<tr>\n",
       "     <td>Df Residuals:</td>           <td>221</td>         <td>LLR p-value:</td>    <td>3.1050e-28</td>\n",
       "</tr>\n",
       "<tr>\n",
       "      <td>Converged:</td>           <td>1.0000</td>           <td>Scale:</td>         <td>1.0000</td>  \n",
       "</tr>\n",
       "<tr>\n",
       "    <td>No. Iterations:</td>        <td>8.0000</td>              <td></td>               <td></td>     \n",
       "</tr>\n",
       "</table>\n",
       "<table class=\"simpletable\">\n",
       "<tr>\n",
       "                <td></td>                <th>Coef.</th>  <th>Std.Err.</th>    <th>z</th>     <th>P>|z|</th>  <th>[0.025</th>  <th>0.975]</th>\n",
       "</tr>\n",
       "<tr>\n",
       "  <th>Intercept</th>                    <td>-4.7186</td>  <td>3.2676</td>  <td>-1.4441</td> <td>0.1487</td> <td>-11.1230</td> <td>1.6858</td>\n",
       "</tr>\n",
       "<tr>\n",
       "  <th>pd.Categorical(sex)[T.1]</th>     <td>1.4412</td>   <td>0.5885</td>  <td>2.4489</td>  <td>0.0143</td>  <td>0.2878</td>  <td>2.5947</td>\n",
       "</tr>\n",
       "<tr>\n",
       "  <th>pd.Categorical(cp)[T.2]</th>      <td>0.2389</td>   <td>0.9830</td>  <td>0.2430</td>  <td>0.8080</td>  <td>-1.6878</td> <td>2.1656</td>\n",
       "</tr>\n",
       "<tr>\n",
       "  <th>pd.Categorical(cp)[T.3]</th>      <td>-0.2306</td>  <td>0.8774</td>  <td>-0.2628</td> <td>0.7927</td>  <td>-1.9504</td> <td>1.4891</td>\n",
       "</tr>\n",
       "<tr>\n",
       "  <th>pd.Categorical(cp)[T.4]</th>      <td>1.5804</td>   <td>0.8729</td>  <td>1.8106</td>  <td>0.0702</td>  <td>-0.1304</td> <td>3.2912</td>\n",
       "</tr>\n",
       "<tr>\n",
       "  <th>pd.Categorical(fbs)[T.1]</th>     <td>-0.4111</td>  <td>0.6480</td>  <td>-0.6343</td> <td>0.5259</td>  <td>-1.6812</td> <td>0.8591</td>\n",
       "</tr>\n",
       "<tr>\n",
       "  <th>pd.Categorical(restecg)[T.1]</th> <td>0.6783</td>   <td>2.8032</td>  <td>0.2420</td>  <td>0.8088</td>  <td>-4.8159</td> <td>6.1726</td>\n",
       "</tr>\n",
       "<tr>\n",
       "  <th>pd.Categorical(restecg)[T.2]</th> <td>0.8210</td>   <td>0.4509</td>  <td>1.8209</td>  <td>0.0686</td>  <td>-0.0627</td> <td>1.7047</td>\n",
       "</tr>\n",
       "<tr>\n",
       "  <th>pd.Categorical(exange)[T.1]</th>  <td>0.8805</td>   <td>0.4948</td>  <td>1.7795</td>  <td>0.0752</td>  <td>-0.0893</td> <td>1.8504</td>\n",
       "</tr>\n",
       "<tr>\n",
       "  <th>pd.Categorical(slope)[T.2]</th>   <td>0.5673</td>   <td>0.5427</td>  <td>1.0454</td>  <td>0.2959</td>  <td>-0.4963</td> <td>1.6309</td>\n",
       "</tr>\n",
       "<tr>\n",
       "  <th>pd.Categorical(slope)[T.3]</th>   <td>0.4511</td>   <td>1.0239</td>  <td>0.4405</td>  <td>0.6596</td>  <td>-1.5558</td> <td>2.4580</td>\n",
       "</tr>\n",
       "<tr>\n",
       "  <th>pd.Categorical(ca)[T.1]</th>      <td>1.5907</td>   <td>0.5609</td>  <td>2.8358</td>  <td>0.0046</td>  <td>0.4913</td>  <td>2.6902</td>\n",
       "</tr>\n",
       "<tr>\n",
       "  <th>pd.Categorical(ca)[T.2]</th>      <td>2.5972</td>   <td>0.8256</td>  <td>3.1459</td>  <td>0.0017</td>  <td>0.9791</td>  <td>4.2153</td>\n",
       "</tr>\n",
       "<tr>\n",
       "  <th>pd.Categorical(ca)[T.3]</th>      <td>1.8599</td>   <td>0.9072</td>  <td>2.0503</td>  <td>0.0403</td>  <td>0.0820</td>  <td>3.6379</td>\n",
       "</tr>\n",
       "<tr>\n",
       "  <th>pd.Categorical(tha)[T.6]</th>     <td>0.4492</td>   <td>0.9580</td>  <td>0.4689</td>  <td>0.6392</td>  <td>-1.4284</td> <td>2.3267</td>\n",
       "</tr>\n",
       "<tr>\n",
       "  <th>pd.Categorical(tha)[T.7]</th>     <td>1.2622</td>   <td>0.4898</td>  <td>2.5768</td>  <td>0.0100</td>  <td>0.3022</td>  <td>2.2223</td>\n",
       "</tr>\n",
       "<tr>\n",
       "  <th>age</th>                          <td>-0.0251</td>  <td>0.0284</td>  <td>-0.8827</td> <td>0.3774</td>  <td>-0.0808</td> <td>0.0306</td>\n",
       "</tr>\n",
       "<tr>\n",
       "  <th>trestbps</th>                     <td>0.0313</td>   <td>0.0132</td>  <td>2.3697</td>  <td>0.0178</td>  <td>0.0054</td>  <td>0.0572</td>\n",
       "</tr>\n",
       "<tr>\n",
       "  <th>chol</th>                         <td>0.0034</td>   <td>0.0044</td>  <td>0.7785</td>  <td>0.4363</td>  <td>-0.0052</td> <td>0.0121</td>\n",
       "</tr>\n",
       "<tr>\n",
       "  <th>thalach</th>                      <td>-0.0233</td>  <td>0.0128</td>  <td>-1.8187</td> <td>0.0690</td>  <td>-0.0484</td> <td>0.0018</td>\n",
       "</tr>\n",
       "<tr>\n",
       "  <th>olpeak</th>                       <td>0.6083</td>   <td>0.2702</td>  <td>2.2511</td>  <td>0.0244</td>  <td>0.0787</td>  <td>1.1380</td>\n",
       "</tr>\n",
       "</table>"
      ],
      "text/plain": [
       "<class 'statsmodels.iolib.summary2.Summary'>\n",
       "\"\"\"\n",
       "                               Results: Logit\n",
       "============================================================================\n",
       "Model:                   Logit               Pseudo R-squared:    0.545     \n",
       "Dependent Variable:      target              AIC:                 194.1451  \n",
       "Date:                    2022-05-19 16:18    BIC:                 267.4128  \n",
       "No. Observations:        242                 Log-Likelihood:      -76.073   \n",
       "Df Model:                20                  LL-Null:             -167.34   \n",
       "Df Residuals:            221                 LLR p-value:         3.1050e-28\n",
       "Converged:               1.0000              Scale:               1.0000    \n",
       "No. Iterations:          8.0000                                             \n",
       "----------------------------------------------------------------------------\n",
       "                              Coef.  Std.Err.    z    P>|z|   [0.025  0.975]\n",
       "----------------------------------------------------------------------------\n",
       "Intercept                    -4.7186   3.2676 -1.4441 0.1487 -11.1230 1.6858\n",
       "pd.Categorical(sex)[T.1]      1.4412   0.5885  2.4489 0.0143   0.2878 2.5947\n",
       "pd.Categorical(cp)[T.2]       0.2389   0.9830  0.2430 0.8080  -1.6878 2.1656\n",
       "pd.Categorical(cp)[T.3]      -0.2306   0.8774 -0.2628 0.7927  -1.9504 1.4891\n",
       "pd.Categorical(cp)[T.4]       1.5804   0.8729  1.8106 0.0702  -0.1304 3.2912\n",
       "pd.Categorical(fbs)[T.1]     -0.4111   0.6480 -0.6343 0.5259  -1.6812 0.8591\n",
       "pd.Categorical(restecg)[T.1]  0.6783   2.8032  0.2420 0.8088  -4.8159 6.1726\n",
       "pd.Categorical(restecg)[T.2]  0.8210   0.4509  1.8209 0.0686  -0.0627 1.7047\n",
       "pd.Categorical(exange)[T.1]   0.8805   0.4948  1.7795 0.0752  -0.0893 1.8504\n",
       "pd.Categorical(slope)[T.2]    0.5673   0.5427  1.0454 0.2959  -0.4963 1.6309\n",
       "pd.Categorical(slope)[T.3]    0.4511   1.0239  0.4405 0.6596  -1.5558 2.4580\n",
       "pd.Categorical(ca)[T.1]       1.5907   0.5609  2.8358 0.0046   0.4913 2.6902\n",
       "pd.Categorical(ca)[T.2]       2.5972   0.8256  3.1459 0.0017   0.9791 4.2153\n",
       "pd.Categorical(ca)[T.3]       1.8599   0.9072  2.0503 0.0403   0.0820 3.6379\n",
       "pd.Categorical(tha)[T.6]      0.4492   0.9580  0.4689 0.6392  -1.4284 2.3267\n",
       "pd.Categorical(tha)[T.7]      1.2622   0.4898  2.5768 0.0100   0.3022 2.2223\n",
       "age                          -0.0251   0.0284 -0.8827 0.3774  -0.0808 0.0306\n",
       "trestbps                      0.0313   0.0132  2.3697 0.0178   0.0054 0.0572\n",
       "chol                          0.0034   0.0044  0.7785 0.4363  -0.0052 0.0121\n",
       "thalach                      -0.0233   0.0128 -1.8187 0.0690  -0.0484 0.0018\n",
       "olpeak                        0.6083   0.2702  2.2511 0.0244   0.0787 1.1380\n",
       "============================================================================\n",
       "\n",
       "\"\"\""
      ]
     },
     "execution_count": 304,
     "metadata": {},
     "output_type": "execute_result"
    }
   ],
   "source": [
    "log_reg.summary2()"
   ]
  },
  {
   "cell_type": "code",
   "execution_count": 305,
   "id": "b57fd836",
   "metadata": {},
   "outputs": [
    {
     "data": {
      "text/plain": [
       "Intercept   -7.026604\n",
       "age         -0.015079\n",
       "sex          1.318813\n",
       "cp           0.573659\n",
       "trestbps     0.029900\n",
       "chol         0.003657\n",
       "fbs         -0.669543\n",
       "restecg      0.362150\n",
       "thalach     -0.024078\n",
       "exange       1.126488\n",
       "olpeak       0.516505\n",
       "slope        0.299590\n",
       "ca           0.989203\n",
       "tha          0.324437\n",
       "dtype: float64"
      ]
     },
     "execution_count": 305,
     "metadata": {},
     "output_type": "execute_result"
    }
   ],
   "source": [
    "log_rego.params"
   ]
  },
  {
   "cell_type": "code",
   "execution_count": 308,
   "id": "db81ee64",
   "metadata": {},
   "outputs": [],
   "source": [
    "## Vector of estimated parameters\n",
    "beta=np.array([-7.026604,-0.015079,1.318813,0.57365,0.029900,0.003657,-0.669543,0.362150,-0.024078,1.126488,0.516505,0.299590,0.989203,0.324437])"
   ]
  },
  {
   "cell_type": "code",
   "execution_count": 309,
   "id": "1d1e0515",
   "metadata": {},
   "outputs": [],
   "source": [
    "from statsmodels.stats.anova import anova_lm"
   ]
  },
  {
   "cell_type": "markdown",
   "id": "69d79c27",
   "metadata": {},
   "source": [
    "### Table for Odds ratio and corresponding 95% Confidence interval"
   ]
  },
  {
   "cell_type": "code",
   "execution_count": 310,
   "id": "79cfdeff",
   "metadata": {},
   "outputs": [
    {
     "data": {
      "text/html": [
       "<div>\n",
       "<style scoped>\n",
       "    .dataframe tbody tr th:only-of-type {\n",
       "        vertical-align: middle;\n",
       "    }\n",
       "\n",
       "    .dataframe tbody tr th {\n",
       "        vertical-align: top;\n",
       "    }\n",
       "\n",
       "    .dataframe thead th {\n",
       "        text-align: right;\n",
       "    }\n",
       "</style>\n",
       "<table border=\"1\" class=\"dataframe\">\n",
       "  <thead>\n",
       "    <tr style=\"text-align: right;\">\n",
       "      <th></th>\n",
       "      <th>OR</th>\n",
       "      <th>Z_value</th>\n",
       "      <th>2.5%</th>\n",
       "      <th>97.5%</th>\n",
       "    </tr>\n",
       "  </thead>\n",
       "  <tbody>\n",
       "    <tr>\n",
       "      <th>Intercept</th>\n",
       "      <td>0.000888</td>\n",
       "      <td>0.032097</td>\n",
       "      <td>0.000001</td>\n",
       "      <td>0.548399</td>\n",
       "    </tr>\n",
       "    <tr>\n",
       "      <th>age</th>\n",
       "      <td>0.985034</td>\n",
       "      <td>0.577756</td>\n",
       "      <td>0.934099</td>\n",
       "      <td>1.038746</td>\n",
       "    </tr>\n",
       "    <tr>\n",
       "      <th>sex</th>\n",
       "      <td>3.738982</td>\n",
       "      <td>0.014877</td>\n",
       "      <td>1.293614</td>\n",
       "      <td>10.806926</td>\n",
       "    </tr>\n",
       "    <tr>\n",
       "      <th>cp</th>\n",
       "      <td>1.774748</td>\n",
       "      <td>0.016976</td>\n",
       "      <td>1.108129</td>\n",
       "      <td>2.842387</td>\n",
       "    </tr>\n",
       "    <tr>\n",
       "      <th>trestbps</th>\n",
       "      <td>1.030352</td>\n",
       "      <td>0.017156</td>\n",
       "      <td>1.005326</td>\n",
       "      <td>1.056001</td>\n",
       "    </tr>\n",
       "    <tr>\n",
       "      <th>chol</th>\n",
       "      <td>1.003663</td>\n",
       "      <td>0.368724</td>\n",
       "      <td>0.995692</td>\n",
       "      <td>1.011698</td>\n",
       "    </tr>\n",
       "    <tr>\n",
       "      <th>fbs</th>\n",
       "      <td>0.511943</td>\n",
       "      <td>0.266144</td>\n",
       "      <td>0.157290</td>\n",
       "      <td>1.666258</td>\n",
       "    </tr>\n",
       "    <tr>\n",
       "      <th>restecg</th>\n",
       "      <td>1.436415</td>\n",
       "      <td>0.083934</td>\n",
       "      <td>0.952617</td>\n",
       "      <td>2.165915</td>\n",
       "    </tr>\n",
       "    <tr>\n",
       "      <th>thalach</th>\n",
       "      <td>0.976209</td>\n",
       "      <td>0.032947</td>\n",
       "      <td>0.954845</td>\n",
       "      <td>0.998051</td>\n",
       "    </tr>\n",
       "    <tr>\n",
       "      <th>exange</th>\n",
       "      <td>3.084805</td>\n",
       "      <td>0.014060</td>\n",
       "      <td>1.255349</td>\n",
       "      <td>7.580377</td>\n",
       "    </tr>\n",
       "    <tr>\n",
       "      <th>olpeak</th>\n",
       "      <td>1.676160</td>\n",
       "      <td>0.028975</td>\n",
       "      <td>1.054374</td>\n",
       "      <td>2.664627</td>\n",
       "    </tr>\n",
       "    <tr>\n",
       "      <th>slope</th>\n",
       "      <td>1.349306</td>\n",
       "      <td>0.458465</td>\n",
       "      <td>0.611139</td>\n",
       "      <td>2.979070</td>\n",
       "    </tr>\n",
       "    <tr>\n",
       "      <th>ca</th>\n",
       "      <td>2.689090</td>\n",
       "      <td>0.000281</td>\n",
       "      <td>1.576886</td>\n",
       "      <td>4.585752</td>\n",
       "    </tr>\n",
       "    <tr>\n",
       "      <th>tha</th>\n",
       "      <td>1.383252</td>\n",
       "      <td>0.004214</td>\n",
       "      <td>1.107642</td>\n",
       "      <td>1.727442</td>\n",
       "    </tr>\n",
       "  </tbody>\n",
       "</table>\n",
       "</div>"
      ],
      "text/plain": [
       "                 OR   Z_value      2.5%      97.5%\n",
       "Intercept  0.000888  0.032097  0.000001   0.548399\n",
       "age        0.985034  0.577756  0.934099   1.038746\n",
       "sex        3.738982  0.014877  1.293614  10.806926\n",
       "cp         1.774748  0.016976  1.108129   2.842387\n",
       "trestbps   1.030352  0.017156  1.005326   1.056001\n",
       "chol       1.003663  0.368724  0.995692   1.011698\n",
       "fbs        0.511943  0.266144  0.157290   1.666258\n",
       "restecg    1.436415  0.083934  0.952617   2.165915\n",
       "thalach    0.976209  0.032947  0.954845   0.998051\n",
       "exange     3.084805  0.014060  1.255349   7.580377\n",
       "olpeak     1.676160  0.028975  1.054374   2.664627\n",
       "slope      1.349306  0.458465  0.611139   2.979070\n",
       "ca         2.689090  0.000281  1.576886   4.585752\n",
       "tha        1.383252  0.004214  1.107642   1.727442"
      ]
     },
     "execution_count": 310,
     "metadata": {},
     "output_type": "execute_result"
    }
   ],
   "source": [
    "model_odds=pd.DataFrame(np.exp(log_rego.params),columns=['OR'])\n",
    "model_odds['Z_value']=log_rego.pvalues\n",
    "model_odds[['2.5%', '97.5%']]=np.exp(log_rego.conf_int())\n",
    "model_odds"
   ]
  },
  {
   "cell_type": "markdown",
   "id": "487d3c42",
   "metadata": {},
   "source": [
    "### Predicted Probabilities"
   ]
  },
  {
   "cell_type": "code",
   "execution_count": 311,
   "id": "7342c869",
   "metadata": {},
   "outputs": [
    {
     "data": {
      "text/plain": [
       "262    0.012436\n",
       "17     0.244673\n",
       "89     0.070195\n",
       "138    0.887367\n",
       "47     0.955297\n",
       "         ...   \n",
       "148    0.084586\n",
       "14     0.344864\n",
       "175    0.991515\n",
       "26     0.014522\n",
       "39     0.429038\n",
       "Length: 61, dtype: float64"
      ]
     },
     "execution_count": 311,
     "metadata": {},
     "output_type": "execute_result"
    }
   ],
   "source": [
    "y_pred=log_rego.predict(x_test)\n",
    "y_pred   "
   ]
  },
  {
   "cell_type": "markdown",
   "id": "0f7b1d66",
   "metadata": {},
   "source": [
    "### Comparision of Observed and Predicted Response"
   ]
  },
  {
   "cell_type": "code",
   "execution_count": 312,
   "id": "8b8a1420",
   "metadata": {},
   "outputs": [
    {
     "name": "stdout",
     "output_type": "stream",
     "text": [
      "Actual Values: [0, 0, 0, 1, 1, 1, 0, 0, 1, 0, 0, 1, 0, 0, 1, 0, 0, 1, 1, 0, 1, 0, 0, 1, 0, 0, 1, 1, 1, 0, 0, 0, 0, 1, 0, 1, 0, 1, 0, 0, 1, 0, 1, 0, 0, 1, 0, 0, 1, 0, 1, 0, 1, 1, 0, 1, 0, 0, 1, 0, 0]\n",
      "Prediction: [0, 0, 0, 1, 1, 1, 0, 0, 1, 0, 0, 1, 0, 0, 1, 0, 0, 0, 1, 0, 0, 0, 0, 0, 0, 0, 1, 1, 0, 0, 0, 1, 0, 1, 0, 1, 0, 1, 0, 1, 0, 0, 1, 0, 0, 0, 0, 0, 1, 0, 1, 1, 1, 1, 0, 1, 0, 0, 1, 0, 0]\n"
     ]
    }
   ],
   "source": [
    "print(\"Actual Values:\",list(y_test.values))\n",
    "print(\"Prediction:\",list(map(round,y_pred)))"
   ]
  },
  {
   "cell_type": "markdown",
   "id": "73ad568e",
   "metadata": {},
   "source": [
    "### Confusion Matrix"
   ]
  },
  {
   "cell_type": "code",
   "execution_count": 313,
   "id": "dba7f18f",
   "metadata": {},
   "outputs": [
    {
     "data": {
      "text/plain": [
       "array([[33,  3],\n",
       "       [ 6, 19]], dtype=int64)"
      ]
     },
     "execution_count": 313,
     "metadata": {},
     "output_type": "execute_result"
    }
   ],
   "source": [
    "from sklearn.metrics import confusion_matrix, accuracy_score\n",
    "confusion_matrix(y_test,round(y_pred))"
   ]
  },
  {
   "cell_type": "markdown",
   "id": "b6596f83",
   "metadata": {},
   "source": [
    "### Accuracy Score"
   ]
  },
  {
   "cell_type": "code",
   "execution_count": 314,
   "id": "660ddd90",
   "metadata": {},
   "outputs": [
    {
     "data": {
      "text/plain": [
       "0.8524590163934426"
      ]
     },
     "execution_count": 314,
     "metadata": {},
     "output_type": "execute_result"
    }
   ],
   "source": [
    "accuracy_score(y_test,round(y_pred))"
   ]
  },
  {
   "cell_type": "markdown",
   "id": "aee2fe03",
   "metadata": {},
   "source": [
    "### VIF"
   ]
  },
  {
   "cell_type": "code",
   "execution_count": 315,
   "id": "7db0b622",
   "metadata": {},
   "outputs": [],
   "source": [
    "from statsmodels.stats.outliers_influence import variance_inflation_factor"
   ]
  },
  {
   "cell_type": "code",
   "execution_count": 316,
   "id": "aff70396",
   "metadata": {},
   "outputs": [
    {
     "data": {
      "text/html": [
       "<div>\n",
       "<style scoped>\n",
       "    .dataframe tbody tr th:only-of-type {\n",
       "        vertical-align: middle;\n",
       "    }\n",
       "\n",
       "    .dataframe tbody tr th {\n",
       "        vertical-align: top;\n",
       "    }\n",
       "\n",
       "    .dataframe thead th {\n",
       "        text-align: right;\n",
       "    }\n",
       "</style>\n",
       "<table border=\"1\" class=\"dataframe\">\n",
       "  <thead>\n",
       "    <tr style=\"text-align: right;\">\n",
       "      <th></th>\n",
       "      <th>age</th>\n",
       "      <th>trestbps</th>\n",
       "      <th>chol</th>\n",
       "      <th>thalach</th>\n",
       "      <th>olpeak</th>\n",
       "    </tr>\n",
       "  </thead>\n",
       "  <tbody>\n",
       "    <tr>\n",
       "      <th>0</th>\n",
       "      <td>63</td>\n",
       "      <td>145</td>\n",
       "      <td>233</td>\n",
       "      <td>150</td>\n",
       "      <td>2.3</td>\n",
       "    </tr>\n",
       "    <tr>\n",
       "      <th>1</th>\n",
       "      <td>67</td>\n",
       "      <td>160</td>\n",
       "      <td>286</td>\n",
       "      <td>108</td>\n",
       "      <td>1.5</td>\n",
       "    </tr>\n",
       "    <tr>\n",
       "      <th>2</th>\n",
       "      <td>67</td>\n",
       "      <td>120</td>\n",
       "      <td>229</td>\n",
       "      <td>129</td>\n",
       "      <td>2.6</td>\n",
       "    </tr>\n",
       "    <tr>\n",
       "      <th>3</th>\n",
       "      <td>37</td>\n",
       "      <td>130</td>\n",
       "      <td>250</td>\n",
       "      <td>187</td>\n",
       "      <td>3.5</td>\n",
       "    </tr>\n",
       "    <tr>\n",
       "      <th>4</th>\n",
       "      <td>41</td>\n",
       "      <td>130</td>\n",
       "      <td>204</td>\n",
       "      <td>172</td>\n",
       "      <td>1.4</td>\n",
       "    </tr>\n",
       "    <tr>\n",
       "      <th>...</th>\n",
       "      <td>...</td>\n",
       "      <td>...</td>\n",
       "      <td>...</td>\n",
       "      <td>...</td>\n",
       "      <td>...</td>\n",
       "    </tr>\n",
       "    <tr>\n",
       "      <th>298</th>\n",
       "      <td>45</td>\n",
       "      <td>110</td>\n",
       "      <td>264</td>\n",
       "      <td>132</td>\n",
       "      <td>1.2</td>\n",
       "    </tr>\n",
       "    <tr>\n",
       "      <th>299</th>\n",
       "      <td>68</td>\n",
       "      <td>144</td>\n",
       "      <td>193</td>\n",
       "      <td>141</td>\n",
       "      <td>3.4</td>\n",
       "    </tr>\n",
       "    <tr>\n",
       "      <th>300</th>\n",
       "      <td>57</td>\n",
       "      <td>130</td>\n",
       "      <td>131</td>\n",
       "      <td>115</td>\n",
       "      <td>1.2</td>\n",
       "    </tr>\n",
       "    <tr>\n",
       "      <th>301</th>\n",
       "      <td>57</td>\n",
       "      <td>130</td>\n",
       "      <td>236</td>\n",
       "      <td>174</td>\n",
       "      <td>0.0</td>\n",
       "    </tr>\n",
       "    <tr>\n",
       "      <th>302</th>\n",
       "      <td>38</td>\n",
       "      <td>138</td>\n",
       "      <td>175</td>\n",
       "      <td>173</td>\n",
       "      <td>0.0</td>\n",
       "    </tr>\n",
       "  </tbody>\n",
       "</table>\n",
       "<p>303 rows × 5 columns</p>\n",
       "</div>"
      ],
      "text/plain": [
       "     age  trestbps  chol  thalach  olpeak\n",
       "0     63       145   233      150     2.3\n",
       "1     67       160   286      108     1.5\n",
       "2     67       120   229      129     2.6\n",
       "3     37       130   250      187     3.5\n",
       "4     41       130   204      172     1.4\n",
       "..   ...       ...   ...      ...     ...\n",
       "298   45       110   264      132     1.2\n",
       "299   68       144   193      141     3.4\n",
       "300   57       130   131      115     1.2\n",
       "301   57       130   236      174     0.0\n",
       "302   38       138   175      173     0.0\n",
       "\n",
       "[303 rows x 5 columns]"
      ]
     },
     "execution_count": 316,
     "metadata": {},
     "output_type": "execute_result"
    }
   ],
   "source": [
    "X1=hdf1.iloc[:,:]\n",
    "X1"
   ]
  },
  {
   "cell_type": "code",
   "execution_count": 317,
   "id": "129af828",
   "metadata": {},
   "outputs": [
    {
     "name": "stdout",
     "output_type": "stream",
     "text": [
      "         VIF\n",
      "0  36.685632\n",
      "1  55.971579\n",
      "2  24.354973\n",
      "3  29.326738\n",
      "4   2.084119\n"
     ]
    }
   ],
   "source": [
    "### Calculation of VIF only for numerical Variables\n",
    "vif=pd.DataFrame()\n",
    "vif[\"VIF\"]=[variance_inflation_factor(X1.values,i)for i in range(len(X1.columns))]\n",
    "print(vif)"
   ]
  },
  {
   "cell_type": "markdown",
   "id": "132d7162",
   "metadata": {},
   "source": [
    "### Principal Component Analysis"
   ]
  },
  {
   "cell_type": "code",
   "execution_count": 318,
   "id": "29f75a3a",
   "metadata": {},
   "outputs": [
    {
     "data": {
      "text/plain": [
       "array([[ 0.94872647,  0.68620244, -2.25177456, ...,  2.27457861,\n",
       "        -0.72842926,  0.65528247],\n",
       "       [ 1.39200191,  0.68620244,  0.87798549, ...,  0.64911323,\n",
       "         2.48585324, -0.895894  ],\n",
       "       [ 1.39200191,  0.68620244,  0.87798549, ...,  0.64911323,\n",
       "         1.41442574,  1.17234129],\n",
       "       ...,\n",
       "       [ 0.28381332,  0.68620244,  0.87798549, ...,  0.64911323,\n",
       "         0.34299824,  1.17234129],\n",
       "       [ 0.28381332, -1.4572959 , -1.20852121, ...,  0.64911323,\n",
       "         0.34299824, -0.895894  ],\n",
       "       [-1.82174501,  0.68620244, -0.16526786, ..., -0.97635214,\n",
       "         0.34299824, -0.895894  ]])"
      ]
     },
     "execution_count": 318,
     "metadata": {},
     "output_type": "execute_result"
    }
   ],
   "source": [
    "## Feature Scaling\n",
    "from sklearn.preprocessing import StandardScaler\n",
    "scaler=StandardScaler()\n",
    "x_stan=scaler.fit_transform(x)\n",
    "x_stan"
   ]
  },
  {
   "cell_type": "code",
   "execution_count": 319,
   "id": "ce166f4c",
   "metadata": {},
   "outputs": [
    {
     "name": "stdout",
     "output_type": "stream",
     "text": [
      "[0.23649191 0.12299629 0.09571867 0.08459665 0.07601373 0.06785314\n",
      " 0.06625773 0.05977921 0.05280761 0.04315682 0.03499762 0.03177738\n",
      " 0.02755325]\n"
     ]
    }
   ],
   "source": [
    "from sklearn.decomposition import PCA\n",
    "pca=PCA(n_components=13)\n",
    "X_pca=pca.fit_transform(x_stan)\n",
    "explained_variance=pca.explained_variance_ratio_\n",
    "print(explained_variance)"
   ]
  },
  {
   "cell_type": "markdown",
   "id": "773d46cb",
   "metadata": {},
   "source": [
    "### Scree Plot "
   ]
  },
  {
   "cell_type": "code",
   "execution_count": 320,
   "id": "cdbb63c2",
   "metadata": {},
   "outputs": [
    {
     "data": {
      "image/png": "[encoded data removed]",
      "text/plain": [
       "<Figure size 504x504 with 1 Axes>"
      ]
     },
     "metadata": {},
     "output_type": "display_data"
    }
   ],
   "source": [
    "PCA=[1,2,3,4,5,6,7,8,9,10,11,12,13]\n",
    "plt.plot(PCA,explained_variance,'o-',linewidth=2,color='blue')\n",
    "plt.title('Scree Plot')\n",
    "plt.xlabel('Principle Components')\n",
    "plt.ylabel('Variance Explained')\n",
    "plt.show()"
   ]
  },
  {
   "cell_type": "code",
   "execution_count": 321,
   "id": "035be5c7",
   "metadata": {},
   "outputs": [
    {
     "data": {
      "text/html": [
       "<div>\n",
       "<style scoped>\n",
       "    .dataframe tbody tr th:only-of-type {\n",
       "        vertical-align: middle;\n",
       "    }\n",
       "\n",
       "    .dataframe tbody tr th {\n",
       "        vertical-align: top;\n",
       "    }\n",
       "\n",
       "    .dataframe thead th {\n",
       "        text-align: right;\n",
       "    }\n",
       "</style>\n",
       "<table border=\"1\" class=\"dataframe\">\n",
       "  <thead>\n",
       "    <tr style=\"text-align: right;\">\n",
       "      <th></th>\n",
       "      <th>0</th>\n",
       "      <th>1</th>\n",
       "      <th>2</th>\n",
       "      <th>3</th>\n",
       "      <th>4</th>\n",
       "      <th>5</th>\n",
       "      <th>6</th>\n",
       "      <th>7</th>\n",
       "      <th>8</th>\n",
       "      <th>9</th>\n",
       "      <th>10</th>\n",
       "      <th>11</th>\n",
       "      <th>12</th>\n",
       "    </tr>\n",
       "  </thead>\n",
       "  <tbody>\n",
       "    <tr>\n",
       "      <th>0</th>\n",
       "      <td>1.166745</td>\n",
       "      <td>0.952144</td>\n",
       "      <td>3.087229</td>\n",
       "      <td>2.403715</td>\n",
       "      <td>-0.121293</td>\n",
       "      <td>0.031344</td>\n",
       "      <td>0.979387</td>\n",
       "      <td>0.622356</td>\n",
       "      <td>-1.488823</td>\n",
       "      <td>-0.459357</td>\n",
       "      <td>-0.221343</td>\n",
       "      <td>-0.471248</td>\n",
       "      <td>0.128278</td>\n",
       "    </tr>\n",
       "    <tr>\n",
       "      <th>1</th>\n",
       "      <td>3.190782</td>\n",
       "      <td>1.460879</td>\n",
       "      <td>-0.436539</td>\n",
       "      <td>-0.891345</td>\n",
       "      <td>0.142445</td>\n",
       "      <td>-0.770547</td>\n",
       "      <td>0.281224</td>\n",
       "      <td>-1.054736</td>\n",
       "      <td>0.422592</td>\n",
       "      <td>1.472191</td>\n",
       "      <td>1.033516</td>\n",
       "      <td>0.960517</td>\n",
       "      <td>1.029697</td>\n",
       "    </tr>\n",
       "    <tr>\n",
       "      <th>2</th>\n",
       "      <td>3.133634</td>\n",
       "      <td>-0.627956</td>\n",
       "      <td>-0.347446</td>\n",
       "      <td>-0.600455</td>\n",
       "      <td>-0.042932</td>\n",
       "      <td>-1.115737</td>\n",
       "      <td>0.495478</td>\n",
       "      <td>-0.170099</td>\n",
       "      <td>0.047138</td>\n",
       "      <td>0.453506</td>\n",
       "      <td>-0.342794</td>\n",
       "      <td>-0.920889</td>\n",
       "      <td>-0.201756</td>\n",
       "    </tr>\n",
       "    <tr>\n",
       "      <th>3</th>\n",
       "      <td>-0.463230</td>\n",
       "      <td>-1.388901</td>\n",
       "      <td>0.257402</td>\n",
       "      <td>2.857784</td>\n",
       "      <td>-0.780945</td>\n",
       "      <td>-0.041468</td>\n",
       "      <td>-0.760007</td>\n",
       "      <td>2.113241</td>\n",
       "      <td>0.895477</td>\n",
       "      <td>0.216910</td>\n",
       "      <td>1.536679</td>\n",
       "      <td>-0.169559</td>\n",
       "      <td>0.567354</td>\n",
       "    </tr>\n",
       "    <tr>\n",
       "      <th>4</th>\n",
       "      <td>-2.282119</td>\n",
       "      <td>0.383244</td>\n",
       "      <td>-0.122726</td>\n",
       "      <td>1.202794</td>\n",
       "      <td>-0.800699</td>\n",
       "      <td>-0.258334</td>\n",
       "      <td>0.673586</td>\n",
       "      <td>-0.031292</td>\n",
       "      <td>1.056596</td>\n",
       "      <td>0.576542</td>\n",
       "      <td>-0.853539</td>\n",
       "      <td>0.203072</td>\n",
       "      <td>-1.154884</td>\n",
       "    </tr>\n",
       "    <tr>\n",
       "      <th>...</th>\n",
       "      <td>...</td>\n",
       "      <td>...</td>\n",
       "      <td>...</td>\n",
       "      <td>...</td>\n",
       "      <td>...</td>\n",
       "      <td>...</td>\n",
       "      <td>...</td>\n",
       "      <td>...</td>\n",
       "      <td>...</td>\n",
       "      <td>...</td>\n",
       "      <td>...</td>\n",
       "      <td>...</td>\n",
       "      <td>...</td>\n",
       "    </tr>\n",
       "    <tr>\n",
       "      <th>298</th>\n",
       "      <td>-0.676201</td>\n",
       "      <td>-1.465368</td>\n",
       "      <td>0.578418</td>\n",
       "      <td>1.172215</td>\n",
       "      <td>0.243073</td>\n",
       "      <td>-0.844850</td>\n",
       "      <td>-0.840767</td>\n",
       "      <td>0.928594</td>\n",
       "      <td>-2.048618</td>\n",
       "      <td>-0.127868</td>\n",
       "      <td>-0.923385</td>\n",
       "      <td>1.012585</td>\n",
       "      <td>-0.343748</td>\n",
       "    </tr>\n",
       "    <tr>\n",
       "      <th>299</th>\n",
       "      <td>2.621644</td>\n",
       "      <td>0.040244</td>\n",
       "      <td>2.182901</td>\n",
       "      <td>-0.059692</td>\n",
       "      <td>2.141270</td>\n",
       "      <td>0.382190</td>\n",
       "      <td>0.155629</td>\n",
       "      <td>1.003242</td>\n",
       "      <td>0.880612</td>\n",
       "      <td>-0.792094</td>\n",
       "      <td>0.723790</td>\n",
       "      <td>-0.705497</td>\n",
       "      <td>-0.733137</td>\n",
       "    </tr>\n",
       "    <tr>\n",
       "      <th>300</th>\n",
       "      <td>1.885179</td>\n",
       "      <td>-2.371744</td>\n",
       "      <td>-0.171360</td>\n",
       "      <td>-0.017140</td>\n",
       "      <td>1.476962</td>\n",
       "      <td>0.420695</td>\n",
       "      <td>0.265698</td>\n",
       "      <td>-1.315964</td>\n",
       "      <td>0.239335</td>\n",
       "      <td>0.151753</td>\n",
       "      <td>-0.514436</td>\n",
       "      <td>-0.038227</td>\n",
       "      <td>0.287062</td>\n",
       "    </tr>\n",
       "    <tr>\n",
       "      <th>301</th>\n",
       "      <td>-1.334783</td>\n",
       "      <td>1.506632</td>\n",
       "      <td>-0.156484</td>\n",
       "      <td>0.875433</td>\n",
       "      <td>-0.142806</td>\n",
       "      <td>-0.832332</td>\n",
       "      <td>0.716529</td>\n",
       "      <td>0.116531</td>\n",
       "      <td>0.355273</td>\n",
       "      <td>0.277818</td>\n",
       "      <td>-1.100542</td>\n",
       "      <td>-0.409413</td>\n",
       "      <td>1.015974</td>\n",
       "    </tr>\n",
       "    <tr>\n",
       "      <th>302</th>\n",
       "      <td>-2.275112</td>\n",
       "      <td>-1.279555</td>\n",
       "      <td>0.706569</td>\n",
       "      <td>-0.320762</td>\n",
       "      <td>0.388533</td>\n",
       "      <td>0.003910</td>\n",
       "      <td>-0.240112</td>\n",
       "      <td>-0.270982</td>\n",
       "      <td>1.474826</td>\n",
       "      <td>0.557265</td>\n",
       "      <td>0.449762</td>\n",
       "      <td>0.812113</td>\n",
       "      <td>0.452596</td>\n",
       "    </tr>\n",
       "  </tbody>\n",
       "</table>\n",
       "<p>303 rows × 13 columns</p>\n",
       "</div>"
      ],
      "text/plain": [
       "           0         1         2         3         4         5         6   \\\n",
       "0    1.166745  0.952144  3.087229  2.403715 -0.121293  0.031344  0.979387   \n",
       "1    3.190782  1.460879 -0.436539 -0.891345  0.142445 -0.770547  0.281224   \n",
       "2    3.133634 -0.627956 -0.347446 -0.600455 -0.042932 -1.115737  0.495478   \n",
       "3   -0.463230 -1.388901  0.257402  2.857784 -0.780945 -0.041468 -0.760007   \n",
       "4   -2.282119  0.383244 -0.122726  1.202794 -0.800699 -0.258334  0.673586   \n",
       "..        ...       ...       ...       ...       ...       ...       ...   \n",
       "298 -0.676201 -1.465368  0.578418  1.172215  0.243073 -0.844850 -0.840767   \n",
       "299  2.621644  0.040244  2.182901 -0.059692  2.141270  0.382190  0.155629   \n",
       "300  1.885179 -2.371744 -0.171360 -0.017140  1.476962  0.420695  0.265698   \n",
       "301 -1.334783  1.506632 -0.156484  0.875433 -0.142806 -0.832332  0.716529   \n",
       "302 -2.275112 -1.279555  0.706569 -0.320762  0.388533  0.003910 -0.240112   \n",
       "\n",
       "           7         8         9         10        11        12  \n",
       "0    0.622356 -1.488823 -0.459357 -0.221343 -0.471248  0.128278  \n",
       "1   -1.054736  0.422592  1.472191  1.033516  0.960517  1.029697  \n",
       "2   -0.170099  0.047138  0.453506 -0.342794 -0.920889 -0.201756  \n",
       "3    2.113241  0.895477  0.216910  1.536679 -0.169559  0.567354  \n",
       "4   -0.031292  1.056596  0.576542 -0.853539  0.203072 -1.154884  \n",
       "..        ...       ...       ...       ...       ...       ...  \n",
       "298  0.928594 -2.048618 -0.127868 -0.923385  1.012585 -0.343748  \n",
       "299  1.003242  0.880612 -0.792094  0.723790 -0.705497 -0.733137  \n",
       "300 -1.315964  0.239335  0.151753 -0.514436 -0.038227  0.287062  \n",
       "301  0.116531  0.355273  0.277818 -1.100542 -0.409413  1.015974  \n",
       "302 -0.270982  1.474826  0.557265  0.449762  0.812113  0.452596  \n",
       "\n",
       "[303 rows x 13 columns]"
      ]
     },
     "execution_count": 321,
     "metadata": {},
     "output_type": "execute_result"
    }
   ],
   "source": [
    "## Principal Components\n",
    "Xpca=pd.DataFrame(X_pca)\n",
    "Xpca"
   ]
  },
  {
   "cell_type": "code",
   "execution_count": 322,
   "id": "e6ba52fb",
   "metadata": {},
   "outputs": [
    {
     "data": {
      "text/html": [
       "<div>\n",
       "<style scoped>\n",
       "    .dataframe tbody tr th:only-of-type {\n",
       "        vertical-align: middle;\n",
       "    }\n",
       "\n",
       "    .dataframe tbody tr th {\n",
       "        vertical-align: top;\n",
       "    }\n",
       "\n",
       "    .dataframe thead th {\n",
       "        text-align: right;\n",
       "    }\n",
       "</style>\n",
       "<table border=\"1\" class=\"dataframe\">\n",
       "  <thead>\n",
       "    <tr style=\"text-align: right;\">\n",
       "      <th></th>\n",
       "      <th>0</th>\n",
       "      <th>1</th>\n",
       "      <th>2</th>\n",
       "      <th>3</th>\n",
       "      <th>4</th>\n",
       "      <th>5</th>\n",
       "      <th>6</th>\n",
       "      <th>7</th>\n",
       "      <th>8</th>\n",
       "      <th>9</th>\n",
       "      <th>10</th>\n",
       "      <th>11</th>\n",
       "      <th>12</th>\n",
       "    </tr>\n",
       "  </thead>\n",
       "  <tbody>\n",
       "    <tr>\n",
       "      <th>232</th>\n",
       "      <td>-0.142139</td>\n",
       "      <td>-0.683505</td>\n",
       "      <td>0.344769</td>\n",
       "      <td>-1.109038</td>\n",
       "      <td>0.990618</td>\n",
       "      <td>-2.211297</td>\n",
       "      <td>1.833339</td>\n",
       "      <td>-0.420563</td>\n",
       "      <td>1.364501</td>\n",
       "      <td>0.992861</td>\n",
       "      <td>-0.122115</td>\n",
       "      <td>1.281228</td>\n",
       "      <td>-0.175759</td>\n",
       "    </tr>\n",
       "    <tr>\n",
       "      <th>67</th>\n",
       "      <td>-0.181510</td>\n",
       "      <td>-0.049965</td>\n",
       "      <td>1.178355</td>\n",
       "      <td>0.049584</td>\n",
       "      <td>-1.186690</td>\n",
       "      <td>-0.523070</td>\n",
       "      <td>-0.768899</td>\n",
       "      <td>-1.011376</td>\n",
       "      <td>0.574476</td>\n",
       "      <td>-0.818088</td>\n",
       "      <td>-0.180236</td>\n",
       "      <td>-0.267514</td>\n",
       "      <td>-1.039837</td>\n",
       "    </tr>\n",
       "    <tr>\n",
       "      <th>96</th>\n",
       "      <td>1.780778</td>\n",
       "      <td>-1.199494</td>\n",
       "      <td>-0.606197</td>\n",
       "      <td>-0.734124</td>\n",
       "      <td>-0.830026</td>\n",
       "      <td>-0.499250</td>\n",
       "      <td>0.661200</td>\n",
       "      <td>-0.084176</td>\n",
       "      <td>-0.450201</td>\n",
       "      <td>-0.019357</td>\n",
       "      <td>-0.615903</td>\n",
       "      <td>-0.884392</td>\n",
       "      <td>0.303260</td>\n",
       "    </tr>\n",
       "    <tr>\n",
       "      <th>295</th>\n",
       "      <td>-3.155270</td>\n",
       "      <td>-1.670950</td>\n",
       "      <td>0.820678</td>\n",
       "      <td>0.305801</td>\n",
       "      <td>0.399678</td>\n",
       "      <td>-0.221743</td>\n",
       "      <td>0.064016</td>\n",
       "      <td>-0.249063</td>\n",
       "      <td>0.423724</td>\n",
       "      <td>0.605110</td>\n",
       "      <td>0.076202</td>\n",
       "      <td>-0.093254</td>\n",
       "      <td>0.093339</td>\n",
       "    </tr>\n",
       "    <tr>\n",
       "      <th>57</th>\n",
       "      <td>-1.199737</td>\n",
       "      <td>-2.122580</td>\n",
       "      <td>0.123280</td>\n",
       "      <td>-0.902824</td>\n",
       "      <td>-1.026750</td>\n",
       "      <td>-0.468832</td>\n",
       "      <td>0.933970</td>\n",
       "      <td>-0.481486</td>\n",
       "      <td>0.710839</td>\n",
       "      <td>-1.402786</td>\n",
       "      <td>-0.795973</td>\n",
       "      <td>0.108091</td>\n",
       "      <td>-0.539467</td>\n",
       "    </tr>\n",
       "    <tr>\n",
       "      <th>...</th>\n",
       "      <td>...</td>\n",
       "      <td>...</td>\n",
       "      <td>...</td>\n",
       "      <td>...</td>\n",
       "      <td>...</td>\n",
       "      <td>...</td>\n",
       "      <td>...</td>\n",
       "      <td>...</td>\n",
       "      <td>...</td>\n",
       "      <td>...</td>\n",
       "      <td>...</td>\n",
       "      <td>...</td>\n",
       "      <td>...</td>\n",
       "    </tr>\n",
       "    <tr>\n",
       "      <th>69</th>\n",
       "      <td>0.114572</td>\n",
       "      <td>-0.652844</td>\n",
       "      <td>0.348829</td>\n",
       "      <td>2.164176</td>\n",
       "      <td>0.197924</td>\n",
       "      <td>0.002280</td>\n",
       "      <td>-0.891399</td>\n",
       "      <td>0.278900</td>\n",
       "      <td>0.710544</td>\n",
       "      <td>0.273084</td>\n",
       "      <td>1.787243</td>\n",
       "      <td>0.580118</td>\n",
       "      <td>-0.764375</td>\n",
       "    </tr>\n",
       "    <tr>\n",
       "      <th>252</th>\n",
       "      <td>2.140458</td>\n",
       "      <td>-0.935983</td>\n",
       "      <td>-0.891771</td>\n",
       "      <td>-1.018444</td>\n",
       "      <td>0.922394</td>\n",
       "      <td>0.416387</td>\n",
       "      <td>-0.529315</td>\n",
       "      <td>-0.810028</td>\n",
       "      <td>-1.374038</td>\n",
       "      <td>-0.199315</td>\n",
       "      <td>-0.211542</td>\n",
       "      <td>0.329206</td>\n",
       "      <td>0.811391</td>\n",
       "    </tr>\n",
       "    <tr>\n",
       "      <th>225</th>\n",
       "      <td>-3.483189</td>\n",
       "      <td>-0.633043</td>\n",
       "      <td>-0.327171</td>\n",
       "      <td>0.882851</td>\n",
       "      <td>-0.017007</td>\n",
       "      <td>0.462782</td>\n",
       "      <td>-0.285570</td>\n",
       "      <td>1.033029</td>\n",
       "      <td>0.992587</td>\n",
       "      <td>0.750235</td>\n",
       "      <td>-0.833999</td>\n",
       "      <td>0.092060</td>\n",
       "      <td>-0.511662</td>\n",
       "    </tr>\n",
       "    <tr>\n",
       "      <th>220</th>\n",
       "      <td>-1.808736</td>\n",
       "      <td>0.011817</td>\n",
       "      <td>-1.599879</td>\n",
       "      <td>-0.407274</td>\n",
       "      <td>-1.716677</td>\n",
       "      <td>0.828052</td>\n",
       "      <td>0.871279</td>\n",
       "      <td>0.208717</td>\n",
       "      <td>0.098197</td>\n",
       "      <td>1.227961</td>\n",
       "      <td>-1.028379</td>\n",
       "      <td>-0.235759</td>\n",
       "      <td>-0.229092</td>\n",
       "    </tr>\n",
       "    <tr>\n",
       "      <th>194</th>\n",
       "      <td>0.368973</td>\n",
       "      <td>1.114528</td>\n",
       "      <td>-1.369297</td>\n",
       "      <td>1.383673</td>\n",
       "      <td>0.942900</td>\n",
       "      <td>-0.837615</td>\n",
       "      <td>1.596121</td>\n",
       "      <td>-0.811031</td>\n",
       "      <td>-0.586274</td>\n",
       "      <td>-0.675114</td>\n",
       "      <td>-0.234099</td>\n",
       "      <td>-0.318755</td>\n",
       "      <td>-0.557886</td>\n",
       "    </tr>\n",
       "  </tbody>\n",
       "</table>\n",
       "<p>242 rows × 13 columns</p>\n",
       "</div>"
      ],
      "text/plain": [
       "           0         1         2         3         4         5         6   \\\n",
       "232 -0.142139 -0.683505  0.344769 -1.109038  0.990618 -2.211297  1.833339   \n",
       "67  -0.181510 -0.049965  1.178355  0.049584 -1.186690 -0.523070 -0.768899   \n",
       "96   1.780778 -1.199494 -0.606197 -0.734124 -0.830026 -0.499250  0.661200   \n",
       "295 -3.155270 -1.670950  0.820678  0.305801  0.399678 -0.221743  0.064016   \n",
       "57  -1.199737 -2.122580  0.123280 -0.902824 -1.026750 -0.468832  0.933970   \n",
       "..        ...       ...       ...       ...       ...       ...       ...   \n",
       "69   0.114572 -0.652844  0.348829  2.164176  0.197924  0.002280 -0.891399   \n",
       "252  2.140458 -0.935983 -0.891771 -1.018444  0.922394  0.416387 -0.529315   \n",
       "225 -3.483189 -0.633043 -0.327171  0.882851 -0.017007  0.462782 -0.285570   \n",
       "220 -1.808736  0.011817 -1.599879 -0.407274 -1.716677  0.828052  0.871279   \n",
       "194  0.368973  1.114528 -1.369297  1.383673  0.942900 -0.837615  1.596121   \n",
       "\n",
       "           7         8         9         10        11        12  \n",
       "232 -0.420563  1.364501  0.992861 -0.122115  1.281228 -0.175759  \n",
       "67  -1.011376  0.574476 -0.818088 -0.180236 -0.267514 -1.039837  \n",
       "96  -0.084176 -0.450201 -0.019357 -0.615903 -0.884392  0.303260  \n",
       "295 -0.249063  0.423724  0.605110  0.076202 -0.093254  0.093339  \n",
       "57  -0.481486  0.710839 -1.402786 -0.795973  0.108091 -0.539467  \n",
       "..        ...       ...       ...       ...       ...       ...  \n",
       "69   0.278900  0.710544  0.273084  1.787243  0.580118 -0.764375  \n",
       "252 -0.810028 -1.374038 -0.199315 -0.211542  0.329206  0.811391  \n",
       "225  1.033029  0.992587  0.750235 -0.833999  0.092060 -0.511662  \n",
       "220  0.208717  0.098197  1.227961 -1.028379 -0.235759 -0.229092  \n",
       "194 -0.811031 -0.586274 -0.675114 -0.234099 -0.318755 -0.557886  \n",
       "\n",
       "[242 rows x 13 columns]"
      ]
     },
     "execution_count": 322,
     "metadata": {},
     "output_type": "execute_result"
    }
   ],
   "source": [
    "from sklearn.model_selection import train_test_split\n",
    "x_trainp,x_testp,y_trainp,y_testp=train_test_split(Xpca,y,test_size=0.20)\n",
    "x_trainp"
   ]
  },
  {
   "cell_type": "code",
   "execution_count": 323,
   "id": "f807f0c1",
   "metadata": {},
   "outputs": [],
   "source": [
    "trainp=pd.concat([x_trainp,y_trainp],axis=1,join='inner')"
   ]
  },
  {
   "cell_type": "code",
   "execution_count": 324,
   "id": "bce4c195",
   "metadata": {},
   "outputs": [
    {
     "data": {
      "text/plain": [
       "LogisticRegression()"
      ]
     },
     "execution_count": 324,
     "metadata": {},
     "output_type": "execute_result"
    }
   ],
   "source": [
    "# Model on training dataset\n",
    "from sklearn.linear_model import LogisticRegression\n",
    "LRModelp=LogisticRegression()\n",
    "\n",
    "LRModelp.fit(x_trainp,y_trainp)"
   ]
  },
  {
   "cell_type": "code",
   "execution_count": 325,
   "id": "7acc824d",
   "metadata": {},
   "outputs": [
    {
     "data": {
      "text/plain": [
       "array([-0.20994738])"
      ]
     },
     "execution_count": 325,
     "metadata": {},
     "output_type": "execute_result"
    }
   ],
   "source": [
    "LRModelp.intercept_"
   ]
  },
  {
   "cell_type": "code",
   "execution_count": 326,
   "id": "8ea6362e",
   "metadata": {},
   "outputs": [
    {
     "data": {
      "text/plain": [
       "array([[-0.04454007,  0.53793404,  0.4405445 ,  0.02192871,  0.00169106,\n",
       "        -0.14553813,  0.38690299, -0.04008362,  0.64712699,  0.56722765,\n",
       "         0.01279432,  0.95281966,  0.35755973]])"
      ]
     },
     "execution_count": 326,
     "metadata": {},
     "output_type": "execute_result"
    }
   ],
   "source": [
    "LRModel.coef_"
   ]
  },
  {
   "cell_type": "code",
   "execution_count": 327,
   "id": "6782bc79",
   "metadata": {},
   "outputs": [
    {
     "data": {
      "text/plain": [
       "array([1, 0, 1, 0, 1, 1, 1, 1, 0, 0, 0, 1, 0, 0, 0, 1, 0, 1, 1, 0, 0, 1,\n",
       "       1, 1, 1, 0, 1, 1, 0, 1, 0, 0, 0, 0, 0, 1, 1, 1, 0, 0, 0, 0, 1, 1,\n",
       "       0, 0, 0, 0, 0, 1, 0, 0, 0, 0, 0, 0, 0, 0, 0, 1, 0], dtype=int64)"
      ]
     },
     "execution_count": 327,
     "metadata": {},
     "output_type": "execute_result"
    }
   ],
   "source": [
    "y_predp=LRModelp.predict(x_testp)\n",
    "y_predp"
   ]
  },
  {
   "cell_type": "code",
   "execution_count": 328,
   "id": "2cf6fb64",
   "metadata": {},
   "outputs": [
    {
     "data": {
      "text/plain": [
       "array([[30,  3],\n",
       "       [ 7, 21]], dtype=int64)"
      ]
     },
     "execution_count": 328,
     "metadata": {},
     "output_type": "execute_result"
    }
   ],
   "source": [
    "# Confusion Matrix\n",
    "from sklearn.metrics import confusion_matrix, accuracy_score\n",
    "confusion_matrix(y_testp,y_predp)"
   ]
  },
  {
   "cell_type": "code",
   "execution_count": 329,
   "id": "0052a04b",
   "metadata": {},
   "outputs": [
    {
     "data": {
      "text/plain": [
       "0.8360655737704918"
      ]
     },
     "execution_count": 329,
     "metadata": {},
     "output_type": "execute_result"
    }
   ],
   "source": [
    "accuracy_score(y_testp,y_predp)"
   ]
  },
  {
   "cell_type": "markdown",
   "id": "f6b6a5c7",
   "metadata": {},
   "source": [
    "## Ridge Regression"
   ]
  },
  {
   "cell_type": "markdown",
   "id": "2ee899e1",
   "metadata": {},
   "source": [
    "### Estimate of sigma^2 i.e. MSE"
   ]
  },
  {
   "cell_type": "code",
   "execution_count": 330,
   "id": "1eb212ee",
   "metadata": {},
   "outputs": [
    {
     "data": {
      "text/plain": [
       "0.027163359984002895"
      ]
     },
     "execution_count": 330,
     "metadata": {},
     "output_type": "execute_result"
    }
   ],
   "source": [
    "residual=y_test-y_pred\n",
    "res_sum_squares=residual.T@residual\n",
    "mse=res_sum_squares/(303-14)\n",
    "mse"
   ]
  },
  {
   "cell_type": "markdown",
   "id": "0d3a1cd3",
   "metadata": {},
   "source": [
    "### Biasing parameter 'c' for parameter estimation under Ridge regression"
   ]
  },
  {
   "cell_type": "code",
   "execution_count": 331,
   "id": "56a75c97",
   "metadata": {},
   "outputs": [
    {
     "data": {
      "text/plain": [
       "0.0064518746884831115"
      ]
     },
     "execution_count": 331,
     "metadata": {},
     "output_type": "execute_result"
    }
   ],
   "source": [
    "c=mse*13/(beta.T@beta)\n",
    "c"
   ]
  },
  {
   "cell_type": "code",
   "execution_count": 333,
   "id": "75708bd9",
   "metadata": {},
   "outputs": [
    {
     "data": {
      "text/plain": [
       "LogisticRegression(C=0.0065)"
      ]
     },
     "execution_count": 333,
     "metadata": {},
     "output_type": "execute_result"
    }
   ],
   "source": [
    "from sklearn.linear_model import LogisticRegression\n",
    "LRModelR=LogisticRegression(C=0.0065,penalty='l2')\n",
    "\n",
    "LRModelR.fit(x_train,y_train)"
   ]
  },
  {
   "cell_type": "code",
   "execution_count": 334,
   "id": "4909089f",
   "metadata": {},
   "outputs": [
    {
     "data": {
      "text/plain": [
       "array([0.00177365])"
      ]
     },
     "execution_count": 334,
     "metadata": {},
     "output_type": "execute_result"
    }
   ],
   "source": [
    "LRModelR.intercept_"
   ]
  },
  {
   "cell_type": "code",
   "execution_count": 335,
   "id": "bbf0dd84",
   "metadata": {},
   "outputs": [
    {
     "data": {
      "text/plain": [
       "array([[-2.37045614e-05,  6.98341924e-02,  1.15927484e-01,\n",
       "         1.70775569e-02,  2.08540978e-03, -1.43728709e-03,\n",
       "         7.30750535e-02, -3.30512516e-02,  6.81086941e-02,\n",
       "         1.41268068e-01,  4.34295937e-02,  1.49421398e-01,\n",
       "         2.55992733e-01]])"
      ]
     },
     "execution_count": 335,
     "metadata": {},
     "output_type": "execute_result"
    }
   ],
   "source": [
    "LRModelR.coef_"
   ]
  },
  {
   "cell_type": "code",
   "execution_count": 336,
   "id": "5e66709f",
   "metadata": {},
   "outputs": [
    {
     "data": {
      "text/plain": [
       "array([0, 0, 0, 1, 1, 1, 0, 1, 1, 0, 0, 1, 0, 1, 1, 0, 0, 0, 0, 0, 1, 0,\n",
       "       0, 0, 0, 0, 1, 1, 0, 0, 0, 1, 0, 1, 0, 0, 0, 1, 1, 1, 1, 0, 1, 0,\n",
       "       0, 1, 0, 1, 1, 0, 1, 1, 1, 1, 0, 1, 0, 1, 1, 0, 1], dtype=int64)"
      ]
     },
     "execution_count": 336,
     "metadata": {},
     "output_type": "execute_result"
    }
   ],
   "source": [
    "y_predR=LRModelR.predict(x_test)\n",
    "y_predR"
   ]
  },
  {
   "cell_type": "code",
   "execution_count": 337,
   "id": "f7c6308e",
   "metadata": {},
   "outputs": [
    {
     "data": {
      "text/plain": [
       "0.7704918032786885"
      ]
     },
     "execution_count": 337,
     "metadata": {},
     "output_type": "execute_result"
    }
   ],
   "source": [
    "accuracy_score(y_test,y_predR)"
   ]
  },
  {
   "cell_type": "code",
   "execution_count": 339,
   "id": "56e0a748",
   "metadata": {},
   "outputs": [
    {
     "data": {
      "text/plain": [
       "Text(0.5, 1.0, 'Accuracy Score using different techniques')"
      ]
     },
     "execution_count": 339,
     "metadata": {},
     "output_type": "execute_result"
    },
    {
     "data": {
      "image/png": "[encoded data removed]",
      "text/plain": [
       "<Figure size 504x504 with 1 Axes>"
      ]
     },
     "metadata": {},
     "output_type": "display_data"
    }
   ],
   "source": [
    "# Accuracy Plot\n",
    "Acc_Score=[accuracy_score(y_test,round(y_pred))*100,accuracy_score(y_testp,y_predp)*100,accuracy_score(y_test,y_predR)*100]\n",
    "Models=['Logistic Model on Original Data','Logistic Model with PCA','Logistic Model with Ridge Estimators']\n",
    "plt.bar(Models,Acc_Score,color='maroon',width=0.4)\n",
    "plt.ylabel(\"Model Accuracy \")\n",
    "plt.title(\"Accuracy Score using different techniques\")"
   ]
  },
  {
   "cell_type": "code",
   "execution_count": null,
   "id": "b9d3c9e0",
   "metadata": {},
   "outputs": [],
   "source": []
  }
 ],
 "metadata": {
  "kernelspec": {
   "display_name": "Python 3",
   "language": "python",
   "name": "python3"
  },
  "language_info": {
   "codemirror_mode": {
    "name": "ipython",
    "version": 3
   },
   "file_extension": ".py",
   "mimetype": "text/x-python",
   "name": "python",
   "nbconvert_exporter": "python",
   "pygments_lexer": "ipython3",
   "version": "3.8.8"
  }
 },
 "nbformat": 4,
 "nbformat_minor": 5
}
